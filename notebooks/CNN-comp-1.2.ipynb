{
 "cells": [
  {
   "cell_type": "code",
   "execution_count": 4,
   "metadata": {},
   "outputs": [
    {
     "name": "stdout",
     "output_type": "stream",
     "text": [
      "Collecting pip\n",
      "  Using cached https://files.pythonhosted.org/packages/c2/d7/90f34cb0d83a6c5631cf71dfe64cc1054598c843a92b400e55675cc2ac37/pip-18.1-py2.py3-none-any.whl\n",
      "Installing collected packages: pip\n",
      "  Found existing installation: pip 10.0.1\n",
      "    Uninstalling pip-10.0.1:\n",
      "      Successfully uninstalled pip-10.0.1\n",
      "  Rolling back uninstall of pip\n",
      "\u001b[31mCould not install packages due to an EnvironmentError: [Errno 13] Permission denied: '/lib/python3.6'\n",
      "Consider using the `--user` option or check the permissions.\n",
      "\u001b[0m\n",
      "\u001b[33mYou are using pip version 10.0.1, however version 18.1 is available.\n",
      "You should consider upgrading via the 'pip install --upgrade pip' command.\u001b[0m\n",
      "Requirement already satisfied: numpy==1.15.4 in /Users/eelrufaie/Library/Python/3.6/lib/python/site-packages (1.15.4)\n",
      "\u001b[33mYou are using pip version 10.0.1, however version 18.1 is available.\n",
      "You should consider upgrading via the 'pip install --upgrade pip' command.\u001b[0m\n",
      "Requirement already satisfied: keras==2.1.3 in /Users/eelrufaie/Library/Python/3.6/lib/python/site-packages (2.1.3)\n",
      "Requirement already satisfied: pyyaml in /Users/eelrufaie/Library/Python/3.6/lib/python/site-packages (from keras==2.1.3) (3.13)\n",
      "Requirement already satisfied: numpy>=1.9.1 in /Users/eelrufaie/Library/Python/3.6/lib/python/site-packages (from keras==2.1.3) (1.15.4)\n",
      "Requirement already satisfied: scipy>=0.14 in /Users/eelrufaie/Library/Python/3.6/lib/python/site-packages (from keras==2.1.3) (1.1.0)\n",
      "Requirement already satisfied: six>=1.9.0 in /Users/eelrufaie/Library/Python/3.6/lib/python/site-packages (from keras==2.1.3) (1.11.0)\n",
      "\u001b[33mYou are using pip version 10.0.1, however version 18.1 is available.\n",
      "You should consider upgrading via the 'pip install --upgrade pip' command.\u001b[0m\n",
      "Requirement already satisfied: pandas==0.23.4 in /Users/eelrufaie/Library/Python/3.6/lib/python/site-packages (0.23.4)\n",
      "Requirement already satisfied: numpy>=1.9.0 in /Users/eelrufaie/Library/Python/3.6/lib/python/site-packages (from pandas==0.23.4) (1.15.4)\n",
      "Requirement already satisfied: python-dateutil>=2.5.0 in /Users/eelrufaie/Library/Python/3.6/lib/python/site-packages (from pandas==0.23.4) (2.7.5)\n",
      "Requirement already satisfied: pytz>=2011k in /Users/eelrufaie/Library/Python/3.6/lib/python/site-packages (from pandas==0.23.4) (2018.7)\n",
      "Requirement already satisfied: six>=1.5 in /Users/eelrufaie/Library/Python/3.6/lib/python/site-packages (from python-dateutil>=2.5.0->pandas==0.23.4) (1.11.0)\n",
      "\u001b[33mYou are using pip version 10.0.1, however version 18.1 is available.\n",
      "You should consider upgrading via the 'pip install --upgrade pip' command.\u001b[0m\n",
      "Requirement already satisfied: scikit-image==0.14.1 in /Users/eelrufaie/Library/Python/3.6/lib/python/site-packages (0.14.1)\n",
      "Requirement already satisfied: scipy>=0.17.0 in /Users/eelrufaie/Library/Python/3.6/lib/python/site-packages (from scikit-image==0.14.1) (1.1.0)\n",
      "Requirement already satisfied: dask[array]>=0.9.0 in /Users/eelrufaie/Library/Python/3.6/lib/python/site-packages (from scikit-image==0.14.1) (1.0.0)\n",
      "Requirement already satisfied: matplotlib>=2.0.0 in /Users/eelrufaie/Library/Python/3.6/lib/python/site-packages (from scikit-image==0.14.1) (3.0.2)\n",
      "Requirement already satisfied: six>=1.10.0 in /Users/eelrufaie/Library/Python/3.6/lib/python/site-packages (from scikit-image==0.14.1) (1.11.0)\n",
      "Requirement already satisfied: cloudpickle>=0.2.1 in /Users/eelrufaie/Library/Python/3.6/lib/python/site-packages (from scikit-image==0.14.1) (0.6.1)\n",
      "Requirement already satisfied: networkx>=1.8 in /Users/eelrufaie/Library/Python/3.6/lib/python/site-packages (from scikit-image==0.14.1) (2.2)\n",
      "Requirement already satisfied: pillow>=4.3.0 in /Users/eelrufaie/Library/Python/3.6/lib/python/site-packages (from scikit-image==0.14.1) (5.3.0)\n",
      "Requirement already satisfied: PyWavelets>=0.4.0 in /Users/eelrufaie/Library/Python/3.6/lib/python/site-packages (from scikit-image==0.14.1) (1.0.1)\n",
      "Requirement already satisfied: numpy>=1.8.2 in /Users/eelrufaie/Library/Python/3.6/lib/python/site-packages (from scipy>=0.17.0->scikit-image==0.14.1) (1.15.4)\n",
      "Requirement already satisfied: toolz>=0.7.3; extra == \"array\" in /Users/eelrufaie/Library/Python/3.6/lib/python/site-packages (from dask[array]>=0.9.0->scikit-image==0.14.1) (0.9.0)\n",
      "Requirement already satisfied: pyparsing!=2.0.4,!=2.1.2,!=2.1.6,>=2.0.1 in /Users/eelrufaie/Library/Python/3.6/lib/python/site-packages (from matplotlib>=2.0.0->scikit-image==0.14.1) (2.3.0)\n",
      "Requirement already satisfied: python-dateutil>=2.1 in /Users/eelrufaie/Library/Python/3.6/lib/python/site-packages (from matplotlib>=2.0.0->scikit-image==0.14.1) (2.7.5)\n",
      "Requirement already satisfied: kiwisolver>=1.0.1 in /Users/eelrufaie/Library/Python/3.6/lib/python/site-packages (from matplotlib>=2.0.0->scikit-image==0.14.1) (1.0.1)\n",
      "Requirement already satisfied: cycler>=0.10 in /Users/eelrufaie/Library/Python/3.6/lib/python/site-packages (from matplotlib>=2.0.0->scikit-image==0.14.1) (0.10.0)\n",
      "Requirement already satisfied: decorator>=4.3.0 in /Users/eelrufaie/Library/Python/3.6/lib/python/site-packages (from networkx>=1.8->scikit-image==0.14.1) (4.3.0)\n",
      "Requirement already satisfied: setuptools in /usr/local/lib/python3.6/site-packages (from kiwisolver>=1.0.1->matplotlib>=2.0.0->scikit-image==0.14.1) (39.2.0)\n",
      "\u001b[33mYou are using pip version 10.0.1, however version 18.1 is available.\n",
      "You should consider upgrading via the 'pip install --upgrade pip' command.\u001b[0m\n",
      "Requirement already satisfied: tensorflow in /Users/eelrufaie/Library/Python/3.6/lib/python/site-packages (1.12.0)\n",
      "Requirement already satisfied: grpcio>=1.8.6 in /Users/eelrufaie/Library/Python/3.6/lib/python/site-packages (from tensorflow) (1.17.0)\n",
      "Requirement already satisfied: keras-preprocessing>=1.0.5 in /Users/eelrufaie/Library/Python/3.6/lib/python/site-packages (from tensorflow) (1.0.5)\n",
      "Requirement already satisfied: gast>=0.2.0 in /Users/eelrufaie/Library/Python/3.6/lib/python/site-packages (from tensorflow) (0.2.0)\n",
      "Requirement already satisfied: wheel>=0.26 in /usr/local/lib/python3.6/site-packages (from tensorflow) (0.31.1)\n",
      "Requirement already satisfied: tensorboard<1.13.0,>=1.12.0 in /Users/eelrufaie/Library/Python/3.6/lib/python/site-packages (from tensorflow) (1.12.0)\n",
      "Requirement already satisfied: six>=1.10.0 in /Users/eelrufaie/Library/Python/3.6/lib/python/site-packages (from tensorflow) (1.11.0)\n",
      "Requirement already satisfied: astor>=0.6.0 in /Users/eelrufaie/Library/Python/3.6/lib/python/site-packages (from tensorflow) (0.7.1)\n",
      "Requirement already satisfied: keras-applications>=1.0.6 in /Users/eelrufaie/Library/Python/3.6/lib/python/site-packages (from tensorflow) (1.0.6)\n",
      "Requirement already satisfied: numpy>=1.13.3 in /Users/eelrufaie/Library/Python/3.6/lib/python/site-packages (from tensorflow) (1.15.4)\n",
      "Requirement already satisfied: termcolor>=1.1.0 in /Users/eelrufaie/Library/Python/3.6/lib/python/site-packages (from tensorflow) (1.1.0)\n",
      "Requirement already satisfied: protobuf>=3.6.1 in /Users/eelrufaie/Library/Python/3.6/lib/python/site-packages (from tensorflow) (3.6.1)\n",
      "Requirement already satisfied: absl-py>=0.1.6 in /Users/eelrufaie/Library/Python/3.6/lib/python/site-packages (from tensorflow) (0.6.1)\n",
      "Requirement already satisfied: werkzeug>=0.11.10 in /Users/eelrufaie/Library/Python/3.6/lib/python/site-packages (from tensorboard<1.13.0,>=1.12.0->tensorflow) (0.14.1)\n",
      "Requirement already satisfied: markdown>=2.6.8 in /Users/eelrufaie/Library/Python/3.6/lib/python/site-packages (from tensorboard<1.13.0,>=1.12.0->tensorflow) (3.0.1)\n",
      "Requirement already satisfied: h5py in /Users/eelrufaie/Library/Python/3.6/lib/python/site-packages (from keras-applications>=1.0.6->tensorflow) (2.8.0)\n",
      "Requirement already satisfied: setuptools in /usr/local/lib/python3.6/site-packages (from protobuf>=3.6.1->tensorflow) (39.2.0)\n",
      "\u001b[33mYou are using pip version 10.0.1, however version 18.1 is available.\n",
      "You should consider upgrading via the 'pip install --upgrade pip' command.\u001b[0m\n"
     ]
    }
   ],
   "source": [
    "import sys\n",
    "!{sys.executable} -m pip install --upgrade pip\n",
    "!{sys.executable} -m pip install numpy==1.15.4 --user\n",
    "!{sys.executable} -m pip install keras==2.1.3 --user\n",
    "!{sys.executable} -m pip install pandas==0.23.4 --user\n",
    "!{sys.executable} -m pip install scikit-image==0.14.1 --user\n",
    "!{sys.executable} -m pip install tensorflow --user\n",
    "\n"
   ]
  },
  {
   "cell_type": "code",
<<<<<<< HEAD
   "execution_count": 13,
   "metadata": {
    "collapsed": true
   },
=======
   "execution_count": 6,
   "metadata": {},
>>>>>>> ba83cf011d081041cf354ffe25fadf74886f9dff
   "outputs": [],
   "source": [
    "import pandas as pd\n",
    "import numpy as np\n",
    "from sklearn.model_selection import train_test_split\n",
    "import keras\n",
    "import skimage\n",
    "import tensorflow\n",
    "from keras.utils.np_utils import to_categorical\n",
    "from keras.models import Sequential\n",
    "from keras.layers import Dense, Dropout, Flatten, Conv2D, MaxPool2D, AvgPool2D, BatchNormalization, Reshape\n",
    "from keras.preprocessing.image import ImageDataGenerator\n",
    "from keras.callbacks import LearningRateScheduler\n",
    "from keras.utils.vis_utils import plot_model\n",
    "import matplotlib.pyplot as plt\n",
    "import skimage.morphology as morp\n",
    "from skimage.filters import rank\n",
    "\n",
    "%matplotlib inline\n",
    "\n",
    "assert pd.__version__ == '0.23.4'\n",
    "assert np.__version__ == '1.15.4'\n",
    "assert keras.__version__ == '2.1.3'\n",
    "assert skimage.__version__ == '0.14.1'\n",
    "assert tensorflow.__version__ == '1.12.0'\n"
   ]
  },
  {
   "cell_type": "code",
<<<<<<< HEAD
   "execution_count": 14,
   "metadata": {
    "collapsed": false
   },
=======
   "execution_count": 7,
   "metadata": {},
>>>>>>> ba83cf011d081041cf354ffe25fadf74886f9dff
   "outputs": [
    {
     "name": "stdout",
     "output_type": "stream",
     "text": [
      "467\n"
     ]
    }
   ],
   "source": [
    "# Load all images. \n",
    "\n",
    "import os\n",
    "import skimage.data\n",
    "def load_data(data_dir):\n",
    "    images = []\n",
    "    \n",
    "    file_names = sorted([os.path.join(data_dir, f)\n",
    "                  for f in os.listdir(data_dir) if f.endswith(\".jpg\")])\n",
    "    \n",
    "    for f in file_names:\n",
    "        images.append(skimage.data.imread(f, as_gray=True))\n",
    "    \n",
    "    return images\n",
    "\n",
    "images = load_data('../data/train/cropped')\n",
    "print(len(images))"
   ]
  },
  {
   "cell_type": "code",
<<<<<<< HEAD
   "execution_count": 15,
   "metadata": {
    "collapsed": false
   },
=======
   "execution_count": 8,
   "metadata": {},
>>>>>>> ba83cf011d081041cf354ffe25fadf74886f9dff
   "outputs": [
    {
     "name": "stdout",
     "output_type": "stream",
     "text": [
      "image.shape[before] (24, 17)\n",
      "image.shape[before] (60, 45)\n",
      "image.shape[before] (148, 95)\n"
     ]
    }
   ],
   "source": [
    "#explore shapes\n",
    "for image in images[:3]:\n",
    "    print('image.shape[before]', image.shape)"
   ]
  },
  {
   "cell_type": "code",
<<<<<<< HEAD
   "execution_count": 16,
   "metadata": {
    "collapsed": false
   },
=======
   "execution_count": 9,
   "metadata": {},
>>>>>>> ba83cf011d081041cf354ffe25fadf74886f9dff
   "outputs": [
    {
     "name": "stderr",
     "output_type": "stream",
     "text": [
      "/Users/eelrufaie/Library/Python/3.6/lib/python/site-packages/skimage/transform/_warps.py:105: UserWarning: The default mode, 'constant', will be changed to 'reflect' in skimage 0.15.\n",
      "  warn(\"The default mode, 'constant', will be changed to 'reflect' in \"\n",
      "/Users/eelrufaie/Library/Python/3.6/lib/python/site-packages/skimage/transform/_warps.py:110: UserWarning: Anti-aliasing will be enabled by default in skimage 0.15 to avoid aliasing artifacts when down-sampling images.\n",
      "  warn(\"Anti-aliasing will be enabled by default in skimage 0.15 to \"\n"
     ]
    }
   ],
   "source": [
    "#transform all images to 250x250\n",
    "\n",
    "image_size = 64\n",
    "import skimage.transform\n",
    "images250 = [skimage.transform.resize(image, (image_size, image_size)) for image in images]"
   ]
  },
  {
   "cell_type": "code",
<<<<<<< HEAD
   "execution_count": 17,
   "metadata": {
    "collapsed": false
   },
=======
   "execution_count": 10,
   "metadata": {},
>>>>>>> ba83cf011d081041cf354ffe25fadf74886f9dff
   "outputs": [
    {
     "name": "stdout",
     "output_type": "stream",
     "text": [
      "image.shape[after] (64, 64)\n",
      "image.shape[after] (64, 64)\n",
      "image.shape[after] (64, 64)\n"
     ]
    }
   ],
   "source": [
    "#confirm transformation\n",
    "for image in images250[:3]:\n",
    "    print('image.shape[after]', image.shape)\n",
    "    "
   ]
  },
  {
   "cell_type": "code",
<<<<<<< HEAD
   "execution_count": 18,
   "metadata": {
    "collapsed": false
   },
=======
   "execution_count": 11,
   "metadata": {},
>>>>>>> ba83cf011d081041cf354ffe25fadf74886f9dff
   "outputs": [
    {
     "data": {
      "image/png": "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\n",
      "text/plain": [
       "<Figure size 432x288 with 1 Axes>"
      ]
     },
     "metadata": {
      "needs_background": "light"
     },
     "output_type": "display_data"
    },
    {
     "data": {
      "image/png": "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\n",
      "text/plain": [
       "<Figure size 432x288 with 1 Axes>"
      ]
     },
     "metadata": {
      "needs_background": "light"
     },
     "output_type": "display_data"
    },
    {
     "data": {
      "image/png": "iVBORw0KGgoAAAANSUhEUgAAAP4AAAD8CAYAAABXXhlaAAAABHNCSVQICAgIfAhkiAAAAAlwSFlzAAALEgAACxIB0t1+/AAAADl0RVh0U29mdHdhcmUAbWF0cGxvdGxpYiB2ZXJzaW9uIDMuMC4yLCBodHRwOi8vbWF0cGxvdGxpYi5vcmcvOIA7rQAAIABJREFUeJztnXmsXdWV5r/FFAiEwdh4JDYOBttRwICZCTPEgUqRSCgiVWrRHUtWlHQrpa4WQ3fSKVrdSkBJpZDI5MR0mShdJlQRQA5iiGMgCHBsOgy2wcY2BtsYD2AImRh3/3Hv23zn67fXO2+69z3O+kmW1737nH322efud9baa+21LaWEIAiaxV7dbkAQBJ0nBn4QNJAY+EHQQGLgB0EDiYEfBA0kBn4QNJAY+EHQQAY18M1snpmtM7MNZnbNUDUqCILhxQYawGNmewNYD+AiAFsBrATwhZTS2qFrXhAEw8E+gzj3FAAbUkqbAMDMlgC4DEBx4I8dOzZNnTp1EJcMgpGFmWV5EC/RQdfRwwsvvIDdu3dbX8cNZuBPBrCFPm8FcKp3wtSpU/HYY48N4pJBALz33nvFMh5EQHkg6XF77fW+1duf+gd6XqlssAP/1FPdIZgZ9sk9M1tgZqvMbNXu3buH+3JBENRgMG/8bQCOpM9T2t9VSCktBLAQAE466aRYERQMmr333rvy2XtLlt60es67775brIPf6gq/5blOT/Ooq5UMJ4N5468EMMPMjjKz/QBcAeCuoWlWEATDyYDf+Cmld8zsPwK4F8DeAG5OKa0ZspYFQTBsDEbVR0rpbgB3D1FbgiDoEIMa+EHQDXT2nG1mb/bcs6U9O96rYzjtc+9eBkuE7AZBA4mBHwQNJFT9YMCwKlo3eEVVYy576623KmUf+tCHsszutldffbVy3LZt73uRX3755UrZnj17svz6668X28uq/uGHH14pmz59epY18nTs2LG91qn3yS7It99+u3htlgfipqxLvPGDoIHEwA+CBhIDPwgaSNj4gQvbkmqb7rNP+efzl7/8Jcsf/vCHs6x26x//+McsL1++vFJ2zz33ZHnTpk1ZZlsdqM4N7LfffpUynifYd999i+0o2dkA8MorrxTPmzRpUpY/97nPZfmSSy6pHHfEEUdk2es3L7S3dFxfx/ZGvPGDoIHEwA+CBhKqfuDCbjRWm4GqOq/qK5/HKvwdd9xROe7JJ5/MsqqvBxxwQJZZldV2fOQjHynfAOGtnedrq0lz4IEHZlnv880338zyT3/60yzfdtttleMuu+yyLF9xxRWVsoMPPrjYLmYoI/nijR8EDSQGfhA0kFD1AxdWL995551KGc9233VXNRXD0qVLs8yRdqzWAsD++++fZZ1N52g3vjafA1TVb02owXWwOq8qNdfheS/Ua8AeBT2Pufnmm7O8evXqStmCBQuyPGvWrGIdQ0m88YOggcTAD4IGEgM/CBpI2PgjiNJqLC9JRN3EEGrTsi3MEW1A1S5mO/5HP/pR5bgHH3yw1/qAqk0+YcKELHOkXn/ayGWabFNX9ZXqYNQ1xsdp/aV5Ai3j56T1H3rooVl+5JFHKmW8ovD666/PMq8KBPzVf/1NCBJv/CBoIDHwg6CBhKo/gqibA75uHaxuqzrPdaqb7sc//nGWFy1alGV1xXFknZoj7HL7/e9/n2VVo+vuMOOp0XXr8xbAeOfVTY7Bi5H+9Kc/Vco4yvGwww6rlO3cuTPL3/72t7N81VVXVY7jJCCDzfUXb/wgaCAx8IOggcTAD4IGEjb+KKSurcq2qbq8Vq5cmeUbbrihUsbuJU48qdfilWnqNuMw17rJNnXlG89LlNxmfdXPLjAOqfXcjwrX6e2557kc2f5nex+ozp2sWLEiy/fee2/luC9+8YvFNur1+qLPN76Z3WxmO81sNX03xszuN7Pn2v8f5tURBMHIoo6q/88A5sl31wBYllKaAWBZ+3MQBKOEPlX9lNJDZjZNvr4MwLlteTGABwBcPYTtCggvP5yqqKweb926NcsadffQQw9lWVV4TmzB6quqx57JwWo7J87Q1W2s5qq6ysdymV7Ly5dXar+q23/4wx+yzO5HoNrH2kau0zNbvDI2wyZPnpxlVfU/+clPZnnmzJmVsk5F7o1PKW1vyy8DGD/AeoIg6AKDntVPrT81xT83ZrbAzFaZ2ardu3cP9nJBEAwBA53V32FmE1NK281sIoCdpQNTSgsBLASAk046afi2Fv2A4UXdvfHGG1nWfHOPPfZYlr/5zW9mefPmzZXjeLbeyyPH7dDjODqPZ621XVzG0X6Av4VWaRdcVec9Vb9Upn3K0XSq6u/YsSPLGpFXyuPnmRxaxmo69z2bHwDw+OOPZ3nGjBmVsiGf1S9wF4Ar2/KVAO4cYD1BEHSBOu68fwHwKIBjzWyrmc0H8C0AF5nZcwAubH8OgmCUUGdW/wuFoguGuC1BEHSIiNwbBajLjm1rddPdcsstWWY7dty4ccU6tX62F9kmP+SQQyrH8WfNdV+KpvO2iFbYLlabvITn+vQSajA6b8Juxddee61Sptty16HuSkCdU3n44YezfPnll1fKvG25er1Ov44OguADQQz8IGggoeqPUFi95Lz0QDVZA0fgAdXtnjiqTFVsVjc1Tz2r8Kz2qjpfV3X2XHF8nrqv/vznP2d57NixxXbUxUuo4S3E4WehyUjYTNq1a1et+r2FVfzMVH1/6aWXsrx27dpK2cc//vFer1si3vhB0EBi4AdBA4mBHwQNpPE2/lBsPazuMLYlNY8824iea+v555/PMtv0APDoo49mWe1dDnstJbIAqnneDzrooEoZn+cl1GQ8u9Wz8dmm1XDeUqivl8xjoMk2PdvYC7fl58nhvBxW7bUDqPZB3TZu2bKlUnbiiSf2ek6JeOMHQQOJgR8EDaTxqv5QoFFlrMJrtJsmgGDWr1+f5a9//etZZjcOUFUvVdXn1V2swms0mrqlmJIb0Ntqq27uP4VdVl70mbfFlUfdLcU8Vd+LpmPYlcquSMDf5qtkqmifsknJKwaB959TuPOCICgSAz8IGkio+kOAl1paZ/V5pnrNmjWVMlbvt2/fnmUvuYRemxfjHHHEEcU6WNVV84PNB43qY7w8cmxm8Iy8Hsftf/311ytlPEve30UovTHQbac89Zs/831qbkG+T/UCcbv4PDVH+LNGOfa0I2b1gyAoEgM/CBpIDPwgaCCNt/G9KDAPPk4j8NjdpLbpU089leUvfelLlTK22zj5o5fLfcKECZWyUp56tRfZrtd5Asa7Ty+ijV1bvL3zJz7xicpxEydOzDJvFw1UVx5u3Lix2F5+hnqfJbeiZz97KwiVUgJPTT7Kcz1e9CL3sbcdmPfM6hBv/CBoIDHwg6CBjDpV30uYMBBU5RsIqs6zKvfss89Wythl5+2ayu1S19CRRx6ZZTYJgPIiDzVh2GWnamPJXejVoWbApk2bsvziiy9mmXPDA1VTZfz46oZM3K+ciEPz3nNUnKcCe2q0l1SEn4VX5pl4XhKQUpmaeGxKsCk1EOKNHwQNJAZ+EDSQGPhB0EA6buMPNvHFUCTOYLyVY3UTMmodq1atyvLXvva1Stkrr7ySZV1Zx/YpJ8rgrZOB6lxA3SSXCtuPXkgw49m33rbQLPPqQaC6lbeuOOO5jVJCSqAaAqv183lsI3tJLryVe559XrL3Fa9+z+XI8O9jINTZQutIM1tuZmvNbI2ZfbX9/Rgzu9/Mnmv/f1hfdQVBMDKoo+q/A+DvU0qzAZwG4CtmNhvANQCWpZRmAFjW/hwEwSigzt552wFsb8tvmNkzACYDuAzAue3DFgN4AMDVw9LKanuGtD5PHfbUQZY5Px5Q3daKXVlANTGHrtLiravZZadJNHjVmq6eY5Xb27qK1ci65pO211NFvdxxpePUvcnbVXEyEo3w43ZoGzmCbsqUKVnmvgbq59z3zCLP7cef60ZKav+yC48jHoFh3ibbzKYBOAHACgDj238UAOBlAOMLpwVBMMKoPfDN7CAA/wbg71JKlQiK1Ppz1uur2MwWmNkqM1u1e/fuQTU2CIKhodbAN7N90Rr0P0sp3d7+eoeZTWyXTwSws7dzU0oLU0pzU0pzOfoqCILu0aeNby2jYxGAZ1JK/0hFdwG4EsC32v/fOSwt/P/bM+g6PHuLbTa1i9mefuGFF7J83XXXVY7jzDpqi+3ZsyfLamdOnz49y+zKUntR888zdVdw8X3Wztoi9q1nV5Zyxavbj7Pu6HwI2/Xs+vTsbO0rXvHIW1prslEvUSa3UcOndf6lB02uyc/Fc+eVthcHqvMV6uLt6YO6z7KOH/9MAP8OwNNm9kT7u/+K1oD/uZnNB/ACgM/XumIQBF2nzqz+wwBKf0YuGNrmBEHQCUbd6ryhoO6WTlrGbrRFixZl+cknn6wcx2qjJpCcNGlSlnXOg9XIuqr4ULs3vfpVtffU15L6zZF6ALB58+Ysa9QdmwVcpvn9PRcYl7G7UF2HrEbrc+cyjbbktrB6X3dLMf3srRLk5KmagKW/RKx+EDSQGPhB0EAaqep7lNRLAFi4cGGWly5dmmXOZa/naaIMnsnXmWWOOuN2eKp+3RnigVI3slHNAJ4Z50g7Vu2BqsqtM+a8EIVVW1XTX3311SxztJ/CXhqddee+13vhPQLUzCjly/eiHL08j1yfekB4Jl9/Oz31xxZaQRAUiYEfBA0kBn4QNJBRbeOr/enZUWy3qf3FsF3FdjwALF68OMtjxozJMrv5gKr7h913QHV1nrqN+Nqeq8yjtOpO+4qvrf1Rcil5/a1Rgmxrc5SjRkOyS5MjF7XMW8XH7lN9Fnq9HvRevG24vQjI0u9K21j3GZb20QOAGTNmFOvr73xOvPGDoIHEwA+CBtJRVd/MBu1iGmiOubr55tetW5dljs4DqqoXu+x0uyRWUTU3GqvY6lJi2G2kqji7rzRPHeec52up+4fdY7pYiPGi4riN6kbjCD3uK41WPProo7Osrk/Gy+9XN8kF40XP6X16rtWSuaPPjD97v1N+ZtpXxx13XPG8UPWDIOiTGPhB0EBi4AdBA+mojZ9SGvRqsrorsTxbjMu2bdtWOe4b3/hGlr1UYZwMQ5MxcJnaemwv6kovdj3t2rUry1u2bKkcx+3y7FEu0+QS3C51G7HL0UsMwe3VBJhvvPFGlnl+QRNIsFvUC3P1Vit6tnVpG2t1pfJ5XqJMvTafx1th6/yN97svzVHMmjWrchy7hktzFLWTqtQ6KgiCDxQx8IOggYzqyD1Vc70kBiV1asmSJZXj1q9fn2XNbceqOV9L3S58nLaxpBoCVXWZ883pcaymqprOKibfs6rA7PbjvHRAdTVaKfINqG4HxvnsgKrJwe5CNiO0jd7z5GembeIoOb1PfoacM1H7zYtk9KIoub/Zzap9WjJbtIx/SyeffHLlOL4X7YMeFT9W5wVBUCQGfhA0kBGj6nuzx0zdRSPebPdvfvObLN9+++2V4zgKT2dmObKMI/K8vH2qUvIiEk0nzao+16HJH3hRii4oYRWe6/Bmo7Wv+DNfWxfAcKpwVT25r1jW9vJ53my9ZxJwuzSqjz977eBn2J+dbtlb4pkjXsQmmyAcyXjMMccU26G/q57+iVn9IAiKxMAPggYSAz8IGsiIsfHr4iUj5FVg6orjZBA//OEPs6zzCVy/rrpjO43tMo3AY/uZI9gAYPv27VnWlXXcFl49x1tmA9X5BV2NxvXzHIK6l9hG1H4suUV5/gCo2vhqW7LbjiMbdb7C2667tAW1Jrko2dlA9dnwPdfdAh2oPk9NwMquVm6Hbl/O6DwBzz1ceumlWeY8+r21uW5Zb/T5xjez/c3st2b2pJmtMbPr2t8fZWYrzGyDmd1qZvv1VVcQBCODOqr+mwDOTykdD2AOgHlmdhqA6wF8N6V0NIA9AOYPXzODIBhK6uydlwD06In7tv8lAOcD+Jv294sB/AOAHwy0IbUjjvYq/61idUddJrfcckuWOUmEukVYDdMoM1bJvGvxvagLjF12ei9Tp07NMi9mUVWcr6eqM6vVfG/qouJ7U5OG+4BVW022wffG0X5AdWEOq9v9UUlL6r2aHNwOvU92fXrqt+cuZPNBVX1W7/k8Nf+4/dwmADj22GOzfOKJJ2ZZf5ulNgH+uOiNWkeb2d7tnXJ3ArgfwEYAr6WUeoyfrQAml84PgmBkUWvgp5TeTSnNATAFwCkAZta9gJktMLNVZrbKW+YaBEHn6Jd+kFJ6DcByAKcDONTMenTQKQC2Fc5ZmFKam1Kaq4tZgiDoDn3a+GY2DsDbKaXXzOwAABehNbG3HMDlAJYAuBLAnUPVqLpJM3VegG1hTpoJAE888USWS8kZgKobUJM/st3KLh61t3hrbA3LZftc3XRs17Md6K0WU5uzFLKrtm/JBtfz2IZV1yTboJrMk+cNPJedl1iFny/fp86bcB3qxmW7nvvAc+fVTbYBVPun1F69tvbV2WefnWVN6lJC5336S52zJwJYbGZ7o6Uh/DyltNTM1gJYYmb/E8DvACzyKgmCYORQZ1b/KQAn9PL9JrTs/SAIRhmjLnLPS5jAau5NN91UKWM3Gqv3quZyVJyqXaVrq+rJCSpU5eN5jvHjx1fKuC3elsuMqt+cQ5DVUI0C43aoucP96CWX4Paq+lq6F2/lm7fKkd1h3L9AdSWcumD5M6vHap6xeu9F56mqz6abd5987TPPPLNSdtZZZ2VZn0UJb6vtOkSsfhA0kBj4QdBARqSq70XxeVspPfLII1l+6KGHKmU8Q8+qoaqorN7rDHEJjXzzdsT1orFKSSlUjWNVXHPdsSrK96LbZHkqZSlSTe/Fi4or5cvzciFqWUm9V9OK26HPk9vM9XkLgjQSk/tUzYDS7raq6nN03vnnn18p4xTjA01C01/ijR8EDSQGfhA0kBj4QdBAOm7jl5IC1rVf2BbbsGFDpezWW2/Nsrp1GLbJdVWZlxOfYRtZ7Tmu00vq4CUEZXuUE14AwPPPP59lXTHHdj1vuaQ2PrdZbVq+Hm/lpe3lflS3aKnvvMQnCtvy7LbU+QRvpWEpwlKfGR+n241xO7ytzfn56fbo55xzTpZnz55dKeO5nYFG5PV3a7p44wdBA4mBHwQNZMS480r51RR2raxcubJSxnn11O3Cbh520/VnK6WSGublaNd74etp/azO8uIezc3H540bN65SNmXKlCyXotaAqnqp7jHNadeDqthe3j5Wq7k/PHeel5+Q26QRlZ6qX3IXqonBfaCmFf/mvNz//Ls67bTTKsdxdJ66ib1FTHWJyL0gCPokBn4QNJAY+EHQQLpm49e1n4GqDcT2ru57x3aaZ4+WZKC+W9FLIME2rdbBtrWmIuOVdbyaUPuKXXMTJ06slLEbiftU6/BW//H8CLdfXXZsq2oIcCnkWG187ju1rdlVyba7uia5HZ4Nzvele9vx/ILOD3E/enMlnCiT8+MD1bkXnUMphXH3x+Ud7rwgCPokBn4QNJCuqfretlPqHmOV+L777svyxo0bK8dpvvLS9Vht9LZ00naUVK260WdAVX1VVZ+P5RVbXn5/veeS+8qLIFQ3WknV1/7w+qC07bTmxOc+0P7g+rkPtD9Y/db7ZFWc70uj8zS5B+Pl6uMovAsvvLDX7/U8NRdKv6u6q1QHQrzxg6CBxMAPggbStUU6utiB1R8te+mll7K8bNmyLHvJJFQFZvXeS7DhzZyWkkuomsuzthp1x6q+tp/z4nnRaIxeu7TTraqN3Mfa36xGllR2PU/bwZ95oY+q1DyTr/3BUYmcI9CLElQVuJQbkVOgA/62ZFzn9OnTK2Wf/vSns3zKKe/nnvVSlntJQDz6O3PvEW/8IGggMfCDoIHEwA+CBtJRG9/Msn2mNiHbWOpeevjhh7PMEW1q87ANqtFQ/LnuVtsK23rsJtJc66W89EDV9tO8+qXVdGq38rW1rG4CDD5OI/e4fn5OGlnHefY16Sc/T57z0PaxPc0uTKDaPzwvo1F3XKeXKJN/V+pm5UhP/e3w/MKnPvWpStnFF1+cZV416OW999zEde34jiXbbG+V/TszW9r+fJSZrTCzDWZ2q5mV08cGQTCi6I+q/1UAz9Dn6wF8N6V0NIA9AOYPZcOCIBg+aqn6ZjYFwKUA/heA/2wtPeN8AH/TPmQxgH8A8AOvnpRSViu9rZTWr19f+cw58lnNU5cJq2vqzuNjvcQQjKdis6qoEWesXqrrkPPgaQQaq71e0gimrmnSH1dQaQGSqscepf0PdAdi/qz9wSp3KZoQqD4X3eaL3XZc5kW+aRt5N1uWtc0lVypQ32Xn4e210F/qtuafAFwFoKe3DgfwWkqpxzjcCmBybycGQTDy6HPgm9lfAdiZUnp8IBcwswVmtsrMVumbMQiC7lDnjX8mgL82s80AlqCl4t8I4FAz69HhpgDY1tvJKaWFKaW5KaW5PDsaBEH36NPGTyldC+BaADCzcwH8l5TS35rZbQAuR+uPwZUA7qxzwR7bRO1Wdns9+uijlTLOI8+2urpd2Mb39nLrrT09eHnv2U3Hobdq+7JbR7enLiX91Day3eq5f5TSfIDn9vNCk+smI9EwWn42PN+i/cGJQ+peSxNZsO3uheKyna2/jwkTJmSZc+ADwGc/+9ksf/SjHy220etTL3HLQGz3wYbvDmbG4Wq0Jvo2oGXzLxpUS4Ig6Bj9CuBJKT0A4IG2vAnAKd7xQRCMTLq2Ok+jxbZu3ZpldeeVcp6pCszqpa6wKqn6XoIKVeE5co3LdGtmXlWmW3R5uQVZTed2qGrrrfQqof3hmUVsTvG1tO38We+T+4TLvGQpaqbws2GV3XPZqapfyn+o801nnHFGllXVnzz5fYeV9ndpJaPC91L3uOEkYvWDoIHEwA+CBtJRVT+llNU5VaOfeuqpLG/evLlSVpotVdXT28G2tChFF3xwhJguFuI2szqss/Os2moSDa5Dd7rliD/OCafqn3dtNne8SDLuK41U4zZ7O8x6HpbSTLWnzit8LPeVqvP8DNWkKd3nySefXDlu3rx5WZ45c2alrK6XYzQRb/wgaCAx8IOggcTAD4IG0jV3HidgBIC1a9dmWRNbsP3o2fjeir9SYghN3MDReToPUVpxpnYfJ6XQeQK9Xp36dVtotsHVPcauIrZ9veg8nYfgz94KP88+LyWX8Nxh2t+lrau9RBw618AReXPnzs0yJ8kEgGOOOSbL6m7zVnOOVps/3vhB0EBi4AdBA+m4qt/jouGdYQHgxRdfzLJGqjEcZebt0KqRgaXEFqpesqqv2yzxedxGzTfn7ZbLZdp+do+xCq/qvLdlVMmU8Nxo3s6rrEZ7ySu8aDRvDwIvdyG77bzfBPeb7h7M6j3nx1OXHT+L/uxE240FNkNBvPGDoIHEwA+CBhIDPwgaSEdt/Pfeey/bzRs2bKiUsXvPc8vVtZ+VUpiuutv4s7f1s84hMGyDa0JQdpXpijYuYxeeN5dR1z738up7dXAf1HXfaf3c3+qK45V2mref51889yPn49dQ3IsuuijLbNfrikTGc9mNVvedEm/8IGggMfCDoIF0XNXvUd/UBcar4lTVZ1eOt32Uly+P62e3kbqJvJVY/JnVTc4bB1RXzHn5/dUMKCUcUdXTU79LEXN1jwN8t12pDjV9SpGS6rJjVZ+fEVB9FixrJONxxx2X5XPPPbdSxuo9P5eBuuwUzy06kok3fhA0kBj4QdBAujar/8orr1TKPFWfVeK6apeXTpqP83LRqUrJn70kFNx+L8eewuqyl1ePP6sng++H+1T7w9uWq6S+qjrPn1VV5hl59pRwZKTWoX1Vuk/dZXjWrFlZnjZtWqWs9Nupm8q7L0aTes/EGz8IGkgM/CBoIDHwg6CBdDzZZo+bRxMmsq3kuVbYJvRW4KndzfYj28G6pRPb52o/l+w5nZPwkkt6kYclvAhFz/73vvfsXZ4P8FyHfJzmui/tQaB96s2BcL+yy/Soo46qHDdlypQsazRkaZ6gbr8BI2M13VBTa+C3N8x8A8C7AN5JKc01szEAbgUwDcBmAJ9PKe0p1REEwcihP6r+eSmlOSmlngXO1wBYllKaAWBZ+3MQBKOAwaj6lwE4ty0vRmtPvau9E8wsu8vUjVZXvWeVTBd88HGq6pdy7vdHBS5Fu3muMVVtOxnp5SXA8BJslNyK3gIbNd1Kz0Lbwc9F3ae8FdmRRx6ZZU2iwe49fe7ewq0SH0TVXqnbKwnAfWb2uJktaH83PqW0vS2/DGB876cGQTDSqPvGPyultM3MjgBwv5k9y4UppWRmvf6ZbP+hWAAAkyZNGlRjgyAYGmq98VNK29r/7wTwC7S2x95hZhMBoP3/zsK5C1NKc1NKc3WrpiAIukOfb3wzOxDAXimlN9ryxQD+B4C7AFwJ4Fvt/+/s82L77JP3L+N854ranOzy4QSYnmvIc4F5edIHkiveW83WnzmEUpm2qa7dynMZ2kav/Wyfc7itJh/llXaa5JPb6K2s49/BKaecUik79dRTs8x57zWJBn/25mXquoyV0ZREsy51VP3xAH7Rvvl9APyflNI9ZrYSwM/NbD6AFwB8fviaGQTBUNLnwE8pbQJwfC/fvwLgguFoVBAEw0tHI/f22muvrOqx6gYAv/71r7OsyRpKaqMmbmC11NtC2zMJ6lLaqqqvOr3IwJIK76npdaML1X3KqArPbjpvnwHu/7r9rXnvzzjjjCxfeOGFlbJjjz02y14exrp4eQabFrkXsfpB0EBi4AdBA4mBHwQNpON75/W4is4777zK98uXL8/yihUriudzyKfalWybehl4OAGmhngynqtvoHvKcR1qt3I9dVeS1XUl6nwIz6NoVhxeTcd2vYbbenMlnNhy8uTJWdZkmPPmzcsyh+UqXqYeZqD2+AfRjveIN34QNJAY+EHQQDruztPtj3pgFXDNmjWVMo4KYxXYW3GmLkFW5TjP+yGHHFI5zkuUORDXX38i5kpJI7xIPS+JJqvsXt57jbormSOeWaHRdOyKu+CC98M9zjnnnMpx7N7z+sPbZ8BjKFZA1r3eaEq8GW/8IGggMfCDoIF0POdejzqnkWSXXnpplnVW/+67787ywQe3wt7SAAAIzklEQVQfXKmP4Qg6VY9ZnWW1V00Cno1Ws4RztHuqp6ea87Ea8Vc3n72npnOdfJ4X4aftZ/WevR5ebr7DDz+8Unb66adn+eKLL86ybjdWNzFJzNYPLfHGD4IGEgM/CBpIDPwgaCAdtfHNLNuaas+NGTMmy/Pnz6+UvfTSS1l++umns8z2OOCv4GKbnFfxaTtKe75p/Xyezld4UXdexF9pfz8vn72X6NNbCVh3lSD3m0Y58rV1O3Cei/ESZQyE0eQ2G6nEGz8IGkgM/CBoIB1fpFNS03gRyZw5cyplX/7yl7N84403ZnnDhg2V41j110UpDKuoah6we0zdbYyXDKNu3j7F2/6aKSUmAaqquefO43ZohGLJnaemFfePRu6VEpWUIjeDzhJv/CBoIDHwg6CBxMAPggbStZBdtfXZllQ3F6/u4uNuuummynGbN2/Osoay1nWVeSGkJRtcXWp1c+4rJXdhf9rIbam7qk/bX7pPdVvy3IDa7rxdtRf2O5CQ3ZHqzhtN4cHxxg+CBhIDPwgaSMfdeSV1qG7iCU7k8LGPfaxSdsMNN2SZV/QB1VVh7OrjFXdAVe1VlyCrx+y+0nviOlQt9bboLkXTqSrOZRpdyC43T8Wua0rwfWo7vHyFXD/flxeFWDe3YH+2JWM8E48ZyNbaWmd/8vaX6hhOat2hmR1qZv9qZs+a2TNmdrqZjTGz+83sufb/sSNmEIwS6v5puxHAPSmlmWhtp/UMgGsALEspzQCwrP05CIJRQJ3dcg8BcDaAfw8AKaW3ALxlZpcBOLd92GIADwC4uo+6igtpBjJTO378+Mrn73znO1n+zGc+Uyn7/ve/n2We/fdm3VWVLc3WqweBZ7hVbWTzwVP1OVU4z5AD5YQg2hbOLahRd3xtVeG5HVyfXov7R/uq7sKcgewerIlJvAVHTF012jOtPijUuaOjAOwC8L/N7Hdm9pP2dtnjU0rb28e8jNauukEQjALqDPx9AJwI4AcppRMA/BGi1qfWn9Je/5ya2QIzW2Vmq3bt2jXY9gZBMATUGfhbAWxNKfUkwvtXtP4Q7DCziQDQ/n9nbyenlBamlOamlOaOGzduKNocBMEg6dPGTym9bGZbzOzYlNI6ABcAWNv+dyWAb7X/v3NYW9qGV3p5NrhuuXzmmWdmed26dVlesmRJ5bjHHnssy6qhcOQa2/hqg7MNqvYi2+fqSuT6p02bluWTTjqpchznop80aVKlbOPGjVn+yU9+kmWdh/BWApbser0X3l5L7W6+t7q5+ZW6EZDeispSxKa2l4/T+RB+vjoPwdfztvYaadRt6X8C8DMz2w/AJgD/AS1t4edmNh/ACwA+PzxNDIJgqKk18FNKTwCY20vRBb18FwTBCGfE6CZ1I7M81dPbRZbNguOPPz7Ls2bNKh63c2d12oLV6F/+8pdZXr16deU4ztunqufYsWOzfMwxx1TKZs6cmeUZM2ZkWVXx119/PcubNm2qlPH2Y+zO00QZXjQdf+Y+9rbr2rp1a6Xse9/7XpZZVea+Aapqupc/kNuki4UY7Sv+vfB5XuKQww6rxqKdcMIJWdYkMRMmTMgy94+q/Z5JUIr4G459Bnr44DkogyDokxj4QdBAYuAHQQPpWiIOb5WWt7U024HeNtlqB5a20H7wwQcrx91xxx3F9rMLqLSCDfATSrJNq3MD/LmuDa4rCNkF6dXB96K2JNugns3prajkZ8NzDd4+g15SEW6v3rO3Ko7vhV2M6s7j7dL1+e3YsSPLv/rVryplfOzs2bOzrCtHvd9EN5KMxBs/CBpIDPwgaCDWyTxhZrYLrWCfsQB2d+zCvTMS2gBEO5RoR5X+tmNqSqnP2PiODvx8UbNVKaXeAoIa1YZoR7SjW+0IVT8IGkgM/CBoIN0a+Au7dF1mJLQBiHYo0Y4qw9KOrtj4QRB0l1D1g6CBdHTgm9k8M1tnZhvMrGNZec3sZjPbaWar6buOpwc3syPNbLmZrTWzNWb21W60xcz2N7PfmtmT7XZc1/7+KDNb0X4+t7bzLww7ZrZ3O5/j0m61w8w2m9nTZvaEma1qf9eN30hHUtl3bOCb2d4Avgfg0wBmA/iCmc32zxoy/hnAPPmuG+nB3wHw9yml2QBOA/CVdh90ui1vAjg/pXQ8gDkA5pnZaQCuB/DdlNLRAPYAmD/M7ejhq2ilbO+hW+04L6U0h9xn3fiNdCaVfUqpI/8AnA7gXvp8LYBrO3j9aQBW0+d1ACa25YkA1nWqLdSGOwFc1M22APgwgP8L4FS0AkX26e15DeP1p7R/zOcDWArAutSOzQDGyncdfS4ADgHwPNpzb8PZjk6q+pMBbKHPW9vfdYuupgc3s2kATgCwohttaavXT6CVJPV+ABsBvJZS6lm90qnn808ArgLQs4rq8C61IwG4z8weN7MF7e86/Vw6lso+JvfgpwcfDszsIAD/BuDvUkq/70ZbUkrvppTmoPXGPQXAzD5OGXLM7K8A7EwpPd7pa/fCWSmlE9EyRb9iZmdzYYeey6BS2feHTg78bQCOpM9T2t91i1rpwYcaM9sXrUH/s5TS7d1sCwCklF4DsBwtlfpQM+tZx9qJ53MmgL82s80AlqCl7t/YhXYgpbSt/f9OAL9A649hp5/LoFLZ94dODvyVAGa0Z2z3A3AFgLs6eH3lLrTSggMdSg9urcXWiwA8k1L6x261xczGmdmhbfkAtOYZnkHrD8DlnWpHSunalNKUlNI0tH4Pv04p/W2n22FmB5rZR3pkABcDWI0OP5eU0ssAtpjZse2velLZD307hnvSRCYpLgGwHi178r918Lr/AmA7gLfR+qs6Hy1bchmA5wD8CsCYDrTjLLTUtKcAPNH+d0mn2wLgOAC/a7djNYD/3v5+OoDfAtgA4DYAH+rgMzoXwNJutKN9vSfb/9b0/Da79BuZA2BV+9ncAeCw4WhHRO4FQQOJyb0gaCAx8IOggcTAD4IGEgM/CBpIDPwgaCAx8IOggcTAD4IGEgM/CBrI/wP3q/cgyI19GgAAAABJRU5ErkJggg==\n",
      "text/plain": [
       "<Figure size 432x288 with 1 Axes>"
      ]
     },
     "metadata": {
      "needs_background": "light"
     },
     "output_type": "display_data"
    }
   ],
   "source": [
    "from PIL import Image\n",
    "\n",
    "for image in images250[:3]:\n",
    "    image = (image * 255).astype(np.uint8)\n",
    "    im = Image.fromarray(image)\n",
    "    plt.figure()\n",
    "    plt.imshow(im)\n",
    "    plt.show()\n",
    "\n"
   ]
  },
  {
   "cell_type": "code",
<<<<<<< HEAD
   "execution_count": 19,
   "metadata": {
    "collapsed": false
   },
=======
   "execution_count": 12,
   "metadata": {},
>>>>>>> ba83cf011d081041cf354ffe25fadf74886f9dff
   "outputs": [
    {
     "data": {
      "text/plain": [
       "0    Speed Limit 60\n",
       "1    Speed Limit 40\n",
       "2    Speed Limit 20\n",
       "3    Speed Limit 40\n",
       "4    Speed Limit 50\n",
       "Name: Label, dtype: object"
      ]
     },
     "execution_count": 12,
     "metadata": {},
     "output_type": "execute_result"
    }
   ],
   "source": [
    "#Load Labels \n",
    "data = pd.read_csv(\"../data/train.csv\")\n",
    "data = data.sort_values(\"Img_Name\").reset_index(drop=True)\n",
    "labels = data[\"Label\"]\n",
    "\n",
    "labels.head()"
   ]
  },
  {
   "cell_type": "code",
   "execution_count": 13,
   "metadata": {
    "collapsed": false,
    "scrolled": true
   },
   "outputs": [
    {
     "name": "stdout",
     "output_type": "stream",
     "text": [
      "len(X) 467\n",
      "len(y) 467\n",
      "len(y_labels_categorized) 467\n"
     ]
    }
   ],
   "source": [
    "#categorize labels..\n",
    "\n",
    "import numpy as np\n",
    "from keras.utils.np_utils import to_categorical\n",
    "from sklearn.preprocessing import LabelEncoder\n",
    "from sklearn.model_selection import train_test_split\n",
    "\n",
    "# y_train_labels = np.array(labels)\n",
    "# X_train_data = np.array(images250)\n",
    "y = np.array(labels)\n",
    "X = np.array(images250)\n",
    "X = X[:, :, :, np.newaxis] # (250,250) --> (467,250,250,1)\n",
    "\n",
    "num_categories = 6\n",
    "\n",
    "#encode labels\n",
    "label_encoder = LabelEncoder()\n",
    "y_labels_encoded = label_encoder.fit_transform(y)\n",
    "y_labels_categorized = to_categorical(y_labels_encoded, num_categories)\n",
    "\n",
    "print('len(X)', len(X))\n",
    "print('len(y)', len(y))\n",
    "print('len(y_labels_categorized)', len(y_labels_categorized))"
   ]
  },
  {
   "cell_type": "code",
<<<<<<< HEAD
   "execution_count": 21,
   "metadata": {
    "collapsed": true
   },
=======
   "execution_count": 14,
   "metadata": {},
>>>>>>> ba83cf011d081041cf354ffe25fadf74886f9dff
   "outputs": [],
   "source": [
    "X_train, X_test, y_train, y_test = train_test_split(X, y_labels_categorized, test_size=0.2, random_state=42)"
   ]
  },
  {
   "cell_type": "code",
   "execution_count": 22,
   "metadata": {
    "collapsed": true
   },
   "outputs": [],
   "source": [
    "# OLD MODEL\n",
    "\n",
    "# input_shape = (250, 250, 1)\n",
    "\n",
    "# model = Sequential()\n",
    "# model.add(Conv2D(32, kernel_size=(3, 3), activation='relu', input_shape=input_shape, data_format='channels_last'))\n",
    "# # model.add(Conv2D(32, (3, 3), activation='relu'))\n",
    "# # model.add(Conv2D(32, (3, 3), activation='relu'))\n",
    "# model.add(MaxPool2D(pool_size=(2, 2)))\n",
    "\n",
    "# # model.add(Conv2D(64, (3, 3), activation='relu'))\n",
    "# # model.add(MaxPool2D(pool_size=(2, 2)))\n",
    "# # model.add(Dropout(0.25))\n",
    "# model.add(Flatten())\n",
    "\n",
    "# model.add(Dense(256, activation='relu'))\n",
    "# model.add(Dropout(0.5))\n",
    "# model.add(Dense(num_categories, activation='softmax'))\n",
    "\n",
    "# model.compile(loss=\"categorical_crossentropy\", optimizer=\"adam\", metrics=['accuracy'])\n",
    "\n",
    "# model.summary()"
   ]
  },
  {
   "cell_type": "code",
<<<<<<< HEAD
   "execution_count": 23,
   "metadata": {
    "collapsed": true
   },
=======
   "execution_count": 15,
   "metadata": {},
>>>>>>> ba83cf011d081041cf354ffe25fadf74886f9dff
   "outputs": [],
   "source": [
    "# MODEL #1 -- Basic Non-convolutional\n",
    "\n",
    "model = Sequential()\n",
    "model.add(Flatten(input_shape=(image_size,image_size,1)))\n",
    "model.add(Dense(units=image_size,activation=\"relu\"))\n",
    "model.add(Dense(units=image_size,activation=\"relu\"))\n",
    "model.add(Dense(units=6,activation=\"softmax\"))\n",
    "model.compile(optimizer=\"adam\",loss=\"categorical_crossentropy\",metrics=[\"accuracy\"])"
   ]
  },
  {
   "cell_type": "code",
<<<<<<< HEAD
   "execution_count": 24,
   "metadata": {
    "collapsed": false
   },
=======
   "execution_count": 16,
   "metadata": {},
>>>>>>> ba83cf011d081041cf354ffe25fadf74886f9dff
   "outputs": [
    {
     "name": "stdout",
     "output_type": "stream",
     "text": [
      "Epoch 1/5\n",
      "373/373 [==============================] - 0s 877us/step - loss: 1.8805 - acc: 0.1689\n",
      "Epoch 2/5\n",
      "373/373 [==============================] - 0s 124us/step - loss: 1.8290 - acc: 0.2466\n",
      "Epoch 3/5\n",
      "373/373 [==============================] - 0s 125us/step - loss: 1.7360 - acc: 0.2815\n",
      "Epoch 4/5\n",
      "373/373 [==============================] - 0s 126us/step - loss: 1.6907 - acc: 0.2949\n",
      "Epoch 5/5\n",
      "373/373 [==============================] - 0s 128us/step - loss: 1.6914 - acc: 0.2815\n"
     ]
    },
    {
     "data": {
      "text/plain": [
       "<keras.callbacks.History at 0x1279a9b00>"
      ]
     },
     "execution_count": 16,
     "metadata": {},
     "output_type": "execute_result"
    }
   ],
   "source": [
    "model.fit(X_train, y_train, epochs=5, batch_size=32)"
   ]
  },
  {
   "cell_type": "code",
   "execution_count": 17,
   "metadata": {},
   "outputs": [
    {
     "name": "stdout",
     "output_type": "stream",
     "text": [
      "94/94 [==============================] - 0s 472us/step\n"
     ]
    },
    {
     "data": {
      "text/plain": [
       "[1.7546163772014862, 0.25531915274072203]"
      ]
     },
     "execution_count": 17,
     "metadata": {},
     "output_type": "execute_result"
    }
   ],
   "source": [
    "accuracy = model.evaluate(x=X_test,y=y_test,batch_size=32)\n",
    "accuracy"
   ]
  },
  {
   "cell_type": "code",
<<<<<<< HEAD
   "execution_count": 109,
   "metadata": {
    "collapsed": false
   },
=======
   "execution_count": 18,
   "metadata": {},
>>>>>>> ba83cf011d081041cf354ffe25fadf74886f9dff
   "outputs": [
    {
     "name": "stdout",
     "output_type": "stream",
     "text": [
      "_________________________________________________________________\n",
      "Layer (type)                 Output Shape              Param #   \n",
      "=================================================================\n",
      "conv2d_1 (Conv2D)            (None, 60, 60, 32)        832       \n",
      "_________________________________________________________________\n",
      "max_pooling2d_1 (MaxPooling2 (None, 30, 30, 32)        0         \n",
      "_________________________________________________________________\n",
      "dropout_1 (Dropout)          (None, 30, 30, 32)        0         \n",
      "_________________________________________________________________\n",
      "conv2d_2 (Conv2D)            (None, 28, 28, 64)        18496     \n",
      "_________________________________________________________________\n",
      "max_pooling2d_2 (MaxPooling2 (None, 14, 14, 64)        0         \n",
      "_________________________________________________________________\n",
      "dropout_2 (Dropout)          (None, 14, 14, 64)        0         \n",
      "_________________________________________________________________\n",
      "flatten_2 (Flatten)          (None, 12544)             0         \n",
      "_________________________________________________________________\n",
      "dense_4 (Dense)              (None, 32)                401440    \n",
      "_________________________________________________________________\n",
      "dropout_3 (Dropout)          (None, 32)                0         \n",
      "_________________________________________________________________\n",
      "dense_5 (Dense)              (None, 6)                 198       \n",
      "=================================================================\n",
      "Total params: 420,966\n",
      "Trainable params: 420,966\n",
      "Non-trainable params: 0\n",
      "_________________________________________________________________\n"
     ]
    }
   ],
   "source": [
    "# MODEL #2 -- Convolutional test \n",
    "\n",
    "\n",
    "total_epochs_trained = 0\n",
    "model = Sequential()\n",
    "model.add(Conv2D(32, (5, 5), input_shape=(image_size,image_size,1), activation='relu'))\n",
    "model.add(MaxPool2D(pool_size=(2, 2)))\n",
    "model.add(Dropout(0.2))\n",
    "\n",
    "model.add(Conv2D(64, (3, 3), activation='relu'))\n",
    "model.add(MaxPool2D(pool_size=(2, 2)))\n",
    "model.add(Dropout(0.2))\n",
    "\n",
    "# model.add(Conv2D(64, (3, 3), activation='relu'))\n",
    "# model.add(MaxPool2D(pool_size=(2, 2)))\n",
    "# model.add(Dropout(0.2))\n",
    "\n",
    "model.add(Flatten())\n",
    "model.add(Dense(32, activation='relu'))\n",
    "model.add(Dropout(0.2))\n",
    "model.add(Dense(6, activation='softmax'))\n",
    "\n",
    "# from keras.optimizers import SGD\n",
    "# opt = SGD(lr=0.05)\n",
    "\n",
    "model.compile(loss='categorical_crossentropy',\n",
    "              optimizer='rmsprop', #opt\n",
    "              metrics=['accuracy']) \n",
    "\n",
    "# NOTE: If loss=categorical_crossentropy, \n",
    "# then 'accuracy' metrics == categorical_accruacy\n",
    "\n",
    "model.summary()\n"
   ]
  },
  {
   "cell_type": "code",
   "execution_count": 22,
   "metadata": {},
   "outputs": [],
   "source": [
    "#plot and visualize the CNN model \n",
    "from keras.utils.vis_utils import plot_model\n",
    "\n",
    "plot_model(model, to_file='model_plot.png', show_shapes=True, show_layer_names=True)\n"
   ]
  },
  {
   "cell_type": "code",
   "execution_count": 110,
   "metadata": {
    "collapsed": true
   },
   "outputs": [],
   "source": [
    "# data_gen = ImageDataGenerator(\n",
    "#     featurewise_center=True,\n",
    "#     featurewise_std_normalization=True,\n",
    "#     rotation_range=20,\n",
    "#     zoom_range=0.2,\n",
    "#     width_shift_range=0.1,\n",
    "#     height_shift_range=0.1,\n",
    "#     horizontal_flip=False,\n",
    "#     fill_mode=\"nearest\",\n",
    "#     channel_shift_range=0.2,\n",
    "# )\n",
    "\n",
    "\n",
    "# # compute quantities required for featurewise normalization\n",
    "# # (std, mean, and principal components if ZCA whitening is applied)\n",
    "# data_gen.fit(X_train)\n",
    "\n",
    "# # fits the model on batches with real-time data augmentation:\n",
    "# # model.fit_generator(train_gen.flow(X_train, y_train, batch_size=32),\n",
    "# #                     steps_per_epoch=len(X_train) / 32, epochs=20)\n",
    "\n",
    "# import os\n",
    "# os.makedirs('../data/image_data_gen')\n",
    "\n",
    "# i = 0\n",
    "# for X_batch, y_batch in data_gen.flow(X_train, y_train, batch_size=5, save_to_dir='../data/image_data_gen', save_prefix='aug', save_format='jpg'):\n",
    "#     i += 1\n",
    "#     if i == 500:\n",
    "#         break\n",
    "\n",
    "# print(\"done.\")"
   ]
  },
  {
   "cell_type": "code",
<<<<<<< HEAD
   "execution_count": 111,
   "metadata": {
    "collapsed": true
   },
=======
   "execution_count": 19,
   "metadata": {},
>>>>>>> ba83cf011d081041cf354ffe25fadf74886f9dff
   "outputs": [],
   "source": [
    "train_gen = ImageDataGenerator(\n",
    "    featurewise_center=True,\n",
    "    featurewise_std_normalization=True,\n",
    "    rotation_range=20,\n",
    "    zoom_range=0.1,\n",
    "    width_shift_range=0.05,\n",
    "    height_shift_range=0.05,\n",
    "    horizontal_flip=False,\n",
    "    fill_mode=\"nearest\",\n",
    "    channel_shift_range=0.2,\n",
    ")\n",
    "\n",
    "validation_gen = ImageDataGenerator(\n",
    "    featurewise_center=False\n",
    "#     featurewise_std_normalization=True\n",
    ")\n",
    "\n",
    "\n",
    "# compute quantities required for featurewise normalization\n",
    "# (std, mean, and principal components if ZCA whitening is applied)\n",
    "train_gen.fit(X_train)\n",
    "validation_gen.fit(X_train)"
   ]
  },
  {
   "cell_type": "code",
<<<<<<< HEAD
   "execution_count": 114,
   "metadata": {
    "collapsed": false
   },
=======
   "execution_count": 55,
   "metadata": {},
>>>>>>> ba83cf011d081041cf354ffe25fadf74886f9dff
   "outputs": [
    {
     "name": "stdout",
     "output_type": "stream",
     "text": [
      "ACCURACY AFTER X EPOCHS:\n",
      "\n",
      "EPOCH # 5 (loss, acc): (1.771, 0.255)\n",
      "EPOCH # 10 (loss, acc): (1.761, 0.277)\n",
      "EPOCH # 15 (loss, acc): (1.731, 0.287)\n",
      "EPOCH # 20 (loss, acc): (1.646, 0.404)\n",
      "EPOCH # 25 (loss, acc): (1.551, 0.372)\n",
      "EPOCH # 30 (loss, acc): (1.424, 0.479)\n",
      "EPOCH # 35 (loss, acc): (1.334, 0.479)\n",
      "EPOCH # 40 (loss, acc): (1.34, 0.596)\n",
      "EPOCH # 45 (loss, acc): (1.241, 0.681)\n",
      "EPOCH # 50 (loss, acc): (1.357, 0.5)\n",
      "[([1.7711371259486421, 0.2553191514725381], 5), ([1.7610041714729148, 0.27659574658312697], 10), ([1.7309418663065483, 0.2872340444554674], 15), ([1.6460625415152692, 0.40425531978302814], 20), ([1.550747148534085, 0.3723404261660069], 25), ([1.4237423729389271, 0.4787234048894111], 30), ([1.333798111753261, 0.4787234042553192], 35), ([1.3397149405580886, 0.595744678314696], 40), ([1.240941458560051, 0.680851068902523], 45), ([1.356569858307534, 0.5000000076091036], 50)]\n"
     ]
    }
   ],
   "source": [
    "epochs_per_round = 5\n",
    "epoch_acc = []\n",
    "print(\"ACCURACY AFTER X EPOCHS:\\n\")\n",
    "for i in range(10):\n",
    "    # fits the model on batches with real-time data augmentation:\n",
    "    model.fit_generator(\n",
    "        train_gen.flow(X_train, y_train, batch_size=32),\n",
    "#         validation_data=validation_gen.flow(X_test, y_test, batch_size=32),\n",
    "#         validation_steps=800 // 32,\n",
    "        steps_per_epoch=len(X_train) / 32, \n",
    "        epochs=epochs_per_round,\n",
    "        verbose=0\n",
    "    )\n",
    "    \n",
    "    total_epochs_trained += epochs_per_round\n",
    "\n",
    "    acc = model.evaluate(x=X_test,y=y_test,batch_size=32, verbose=0)\n",
    "    print(\"EPOCH #\", total_epochs_trained, \"(loss, acc):\", (round(acc[0],3), round(acc[1],3)))\n",
    "    epoch_acc.append((acc, total_epochs_trained))\n",
    "    \n",
    "    \n",
    "print(epoch_acc)\n"
   ]
  },
  {
   "cell_type": "code",
<<<<<<< HEAD
   "execution_count": null,
   "metadata": {
    "collapsed": true
   },
   "outputs": [],
=======
   "execution_count": 57,
   "metadata": {},
   "outputs": [
    {
     "name": "stdout",
     "output_type": "stream",
     "text": [
      "Epoch 1/10\n",
      "373/373 [==============================] - 1s 3ms/step - loss: 0.9105 - acc: 0.7426\n",
      "Epoch 2/10\n",
      "373/373 [==============================] - 1s 3ms/step - loss: 0.7727 - acc: 0.7480\n",
      "Epoch 3/10\n",
      "373/373 [==============================] - 1s 4ms/step - loss: 0.7028 - acc: 0.7694\n",
      "Epoch 4/10\n",
      "373/373 [==============================] - 1s 4ms/step - loss: 0.6651 - acc: 0.7668\n",
      "Epoch 5/10\n",
      "373/373 [==============================] - 1s 4ms/step - loss: 0.5271 - acc: 0.8284\n",
      "Epoch 6/10\n",
      "373/373 [==============================] - 1s 3ms/step - loss: 0.5454 - acc: 0.8311\n",
      "Epoch 7/10\n",
      "373/373 [==============================] - 1s 4ms/step - loss: 0.4913 - acc: 0.8445\n",
      "Epoch 8/10\n",
      "373/373 [==============================] - 1s 3ms/step - loss: 0.4808 - acc: 0.8311\n",
      "Epoch 9/10\n",
      "373/373 [==============================] - 1s 3ms/step - loss: 0.4204 - acc: 0.8606\n",
      "Epoch 10/10\n",
      "373/373 [==============================] - 1s 3ms/step - loss: 0.3871 - acc: 0.8686\n"
     ]
    }
   ],
>>>>>>> ba83cf011d081041cf354ffe25fadf74886f9dff
   "source": [
    "history = model.fit(X_train, y_train, epochs=10, batch_size=32)"
   ]
  },
  {
   "cell_type": "code",
<<<<<<< HEAD
   "execution_count": null,
   "metadata": {
    "collapsed": true
   },
   "outputs": [],
=======
   "execution_count": 20,
   "metadata": {},
   "outputs": [
    {
     "name": "stdout",
     "output_type": "stream",
     "text": [
      "94/94 [==============================] - 0s 3ms/step\n"
     ]
    },
    {
     "data": {
      "text/plain": [
       "[1.803942266930925, 0.09574468243629375]"
      ]
     },
     "execution_count": 20,
     "metadata": {},
     "output_type": "execute_result"
    }
   ],
>>>>>>> ba83cf011d081041cf354ffe25fadf74886f9dff
   "source": [
    "accuracy = model.evaluate(x=X_test,y=y_test,batch_size=32)\n",
    "accuracy"
   ]
  },
  {
   "cell_type": "code",
   "execution_count": 68,
   "metadata": {},
   "outputs": [
    {
     "data": {
      "image/png": "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\n",
      "text/plain": [
       "<Figure size 432x288 with 1 Axes>"
      ]
     },
     "metadata": {
      "needs_background": "light"
     },
     "output_type": "display_data"
    }
   ],
   "source": [
    "# Visualize model accuracy and loss.\n",
    "\n",
    "# summarize history for accuracy\n",
    "plt.plot(history.history['acc'])\n",
    "plt.title('model accuracy and loss')\n",
    "plt.ylabel('accuracy')\n",
    "plt.xlabel('epoch')\n",
    "plt.legend(['train', 'test'], loc='upper left')\n",
    "\n",
    "# summarize history for loss\n",
    "plt.plot(history.history['loss'])\n",
    "plt.ylabel('loss')\n",
    "plt.xlabel('epoch')\n",
    "plt.legend(['train', 'test'], loc='upper left')\n",
    "plt.show()"
   ]
  },
  {
   "cell_type": "code",
   "execution_count": 52,
   "metadata": {
    "collapsed": true,
    "scrolled": true
   },
   "outputs": [
    {
     "name": "stdout",
     "output_type": "stream",
     "text": [
      "First prediction: [0.16091555 0.16334444 0.1682247  0.15783872 0.169484   0.18019253]\n",
      "Average predicted class probability: 0.18597983\n",
      "%-correct:  0.09574468085106383\n"
     ]
    },
    {
     "data": {
      "text/plain": [
       "array([[0.16091555, 0.16334444, 0.1682247 , 0.15783872, 0.169484  ,\n",
       "        0.18019253],\n",
       "       [0.15932867, 0.16583161, 0.16769849, 0.15829657, 0.16804923,\n",
       "        0.18079546],\n",
       "       [0.15692468, 0.16371073, 0.16808338, 0.15407392, 0.16786467,\n",
       "        0.18934265],\n",
       "       [0.16317046, 0.16729306, 0.16680922, 0.1628786 , 0.16682489,\n",
       "        0.17302375],\n",
       "       [0.16176851, 0.16497873, 0.16839874, 0.15622622, 0.1721433 ,\n",
       "        0.17648454]], dtype=float32)"
      ]
     },
     "execution_count": 52,
     "metadata": {},
     "output_type": "execute_result"
    }
   ],
   "source": [
    "predictions = model.predict(X_test)\n",
    "print('First prediction:', predictions[0])\n",
    "\n",
    "predict_max = [max(class_probs) for class_probs in predictions]\n",
    "print('Average predicted class probability:', np.mean(predict_max))\n",
    "\n",
    "correct = [1 if np.argmax(predictions[i])==np.argmax(y_test[i]) else 0 for i in range(len(y_test))]\n",
    "print(\"%-correct: \", np.mean(correct))\n",
    "\n",
    "predictions[0:5]\n"
   ]
  },
  {
   "cell_type": "code",
   "execution_count": null,
   "metadata": {
    "collapsed": true
   },
   "outputs": [],
   "source": []
  },
  {
   "cell_type": "code",
   "execution_count": null,
   "metadata": {},
   "outputs": [],
   "source": []
  }
 ],
 "metadata": {
  "kernelspec": {
   "display_name": "Python 3",
   "language": "python",
   "name": "python3"
  },
  "language_info": {
   "codemirror_mode": {
    "name": "ipython",
    "version": 3
   },
   "file_extension": ".py",
   "mimetype": "text/x-python",
   "name": "python",
   "nbconvert_exporter": "python",
   "pygments_lexer": "ipython3",
   "version": "3.5.2"
  }
 },
 "nbformat": 4,
 "nbformat_minor": 2
}
