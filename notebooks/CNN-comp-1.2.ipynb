{
 "cells": [
  {
   "cell_type": "code",
   "execution_count": null,
   "metadata": {
    "collapsed": false
   },
   "outputs": [],
   "source": [
    "import pandas as pd\n",
    "import numpy as np\n",
    "from sklearn.model_selection import train_test_split\n",
    "import keras as k\n",
    "from keras.utils.np_utils import to_categorical\n",
    "from keras.models import Sequential\n",
    "from keras.layers import Dense, Dropout, Flatten, Conv2D, MaxPool2D, AvgPool2D, BatchNormalization, Reshape\n",
    "from keras.preprocessing.image import ImageDataGenerator\n",
    "from keras.callbacks import LearningRateScheduler\n",
    "from keras.utils.vis_utils import plot_model\n",
    "import matplotlib.pyplot as plt\n",
    "import skimage.morphology as morp\n",
    "from skimage.filters import rank\n",
    "\n",
    "%matplotlib inline\n",
    "\n",
    "assert pd.__version__ == '0.23.4'\n",
    "assert np.__version__ == '1.15.4'\n",
    "assert k.__version__ == '2.1.3'"
   ]
  },
  {
   "cell_type": "code",
   "execution_count": null,
   "metadata": {
    "collapsed": false
   },
   "outputs": [],
   "source": [
    "# Load all images. \n",
    "\n",
    "import os\n",
    "import skimage.data\n",
    "def load_data(data_dir):\n",
    "    images = []\n",
    "    \n",
    "    file_names = sorted([os.path.join(data_dir, f)\n",
    "                  for f in os.listdir(data_dir) if f.endswith(\".jpg\")])\n",
    "    \n",
    "    for f in file_names:\n",
    "        images.append(skimage.data.imread(f, as_gray=True))\n",
    "    \n",
    "    return images\n",
    "\n",
    "images = load_data('../data/train/cropped')\n",
    "print(len(images))"
   ]
  },
  {
   "cell_type": "code",
   "execution_count": null,
   "metadata": {
    "collapsed": false
   },
   "outputs": [],
   "source": [
    "#explore shapes\n",
    "for image in images[:3]:\n",
    "    print('image.shape[before]', image.shape)"
   ]
  },
  {
   "cell_type": "code",
   "execution_count": null,
   "metadata": {
    "collapsed": false
   },
   "outputs": [],
   "source": [
    "#transform all images to 250x250\n",
    "\n",
    "image_size = 64\n",
    "import skimage.transform\n",
    "images250 = [skimage.transform.resize(image, (image_size, image_size)) for image in images]"
   ]
  },
  {
   "cell_type": "code",
   "execution_count": null,
   "metadata": {
    "collapsed": false
   },
   "outputs": [],
   "source": [
    "#confirm transformation\n",
    "for image in images250[:3]:\n",
    "    print('image.shape[after]', image.shape)\n",
    "    "
   ]
  },
  {
   "cell_type": "code",
   "execution_count": null,
   "metadata": {
    "collapsed": false
   },
   "outputs": [],
   "source": [
    "from PIL import Image\n",
    "\n",
    "for image in images250[:3]:\n",
    "    image = (image * 255).astype(np.uint8)\n",
    "    im = Image.fromarray(image)\n",
    "    plt.figure()\n",
    "    plt.imshow(im)\n",
    "    plt.show()\n",
    "\n"
   ]
  },
  {
   "cell_type": "code",
   "execution_count": null,
   "metadata": {
    "collapsed": false
   },
   "outputs": [],
   "source": [
    "#Load Labels \n",
    "data = pd.read_csv(\"../data/train.csv\")\n",
    "data = data.sort_values(\"Img_Name\").reset_index(drop=True)\n",
    "labels = data[\"Label\"]\n",
    "\n",
    "labels.head()"
   ]
  },
  {
   "cell_type": "code",
   "execution_count": null,
   "metadata": {
    "collapsed": false,
    "scrolled": true
   },
   "outputs": [],
   "source": [
    "#categorize labels..\n",
    "\n",
    "import numpy as np\n",
    "from keras.utils.np_utils import to_categorical\n",
    "from sklearn.preprocessing import LabelEncoder\n",
    "from sklearn.model_selection import train_test_split\n",
    "\n",
    "# y_train_labels = np.array(labels)\n",
    "# X_train_data = np.array(images250)\n",
    "y = np.array(labels)\n",
    "X = np.array(images250)\n",
    "X = X[:, :, :, np.newaxis] # (250,250) --> (467,250,250,1)\n",
    "\n",
    "num_categories = 6\n",
    "\n",
    "#encode labels\n",
    "label_encoder = LabelEncoder()\n",
    "y_labels_encoded = label_encoder.fit_transform(y)\n",
    "y_labels_categorized = to_categorical(y_labels_encoded, num_categories)\n",
    "\n",
    "print('len(X)', len(X))\n",
    "print('len(y)', len(y))\n",
    "print('len(y_labels_categorized)', len(y_labels_categorized))"
   ]
  },
  {
   "cell_type": "code",
   "execution_count": null,
   "metadata": {
    "collapsed": true
   },
   "outputs": [],
   "source": [
    "X_train, X_test, y_train, y_test = train_test_split(X, y_labels_categorized, test_size=0.2, random_state=42)"
   ]
  },
  {
   "cell_type": "code",
   "execution_count": null,
   "metadata": {
    "collapsed": false
   },
   "outputs": [],
   "source": [
    "# OLD MODEL\n",
    "\n",
    "# input_shape = (250, 250, 1)\n",
    "\n",
    "# model = Sequential()\n",
    "# model.add(Conv2D(32, kernel_size=(3, 3), activation='relu', input_shape=input_shape, data_format='channels_last'))\n",
    "# # model.add(Conv2D(32, (3, 3), activation='relu'))\n",
    "# # model.add(Conv2D(32, (3, 3), activation='relu'))\n",
    "# model.add(MaxPool2D(pool_size=(2, 2)))\n",
    "\n",
    "# # model.add(Conv2D(64, (3, 3), activation='relu'))\n",
    "# # model.add(MaxPool2D(pool_size=(2, 2)))\n",
    "# # model.add(Dropout(0.25))\n",
    "# model.add(Flatten())\n",
    "\n",
    "# model.add(Dense(256, activation='relu'))\n",
    "# model.add(Dropout(0.5))\n",
    "# model.add(Dense(num_categories, activation='softmax'))\n",
    "\n",
    "# model.compile(loss=\"categorical_crossentropy\", optimizer=\"adam\", metrics=['accuracy'])\n",
    "\n",
    "# model.summary()"
   ]
  },
  {
   "cell_type": "code",
   "execution_count": null,
   "metadata": {
    "collapsed": false
   },
   "outputs": [],
   "source": [
    "# MODEL #1 -- Basic Non-convolutional\n",
    "\n",
    "model = Sequential()\n",
    "model.add(Flatten(input_shape=(image_size,image_size,1)))\n",
    "model.add(Dense(units=image_size,activation=\"relu\"))\n",
    "model.add(Dense(units=image_size,activation=\"relu\"))\n",
    "model.add(Dense(units=6,activation=\"softmax\"))\n",
    "model.compile(optimizer=\"adam\",loss=\"categorical_crossentropy\",metrics=[\"accuracy\"])"
   ]
  },
  {
   "cell_type": "code",
   "execution_count": null,
   "metadata": {
    "collapsed": false
   },
   "outputs": [],
   "source": [
    "model.fit(X_train, y_train, epochs=5, batch_size=32)"
   ]
  },
  {
   "cell_type": "code",
   "execution_count": null,
   "metadata": {
    "collapsed": false
   },
   "outputs": [],
   "source": [
    "accuracy = model.evaluate(x=X_test,y=y_test,batch_size=32)\n",
    "accuracy"
   ]
  },
  {
   "cell_type": "code",
   "execution_count": null,
   "metadata": {
    "collapsed": false
   },
   "outputs": [],
   "source": [
    "# MODEL #2 -- Convolutional test \n",
    "\n",
    "model = Sequential()\n",
    "model.add(Conv2D(32, (5, 5), input_shape=(image_size,image_size,1), activation='relu'))\n",
    "model.add(MaxPool2D(pool_size=(2, 2)))\n",
    "model.add(Dropout(0.2))\n",
    "\n",
    "model.add(Conv2D(64, (3, 3), activation='relu'))\n",
    "model.add(MaxPool2D(pool_size=(2, 2)))\n",
    "model.add(Dropout(0.2))\n",
    "\n",
    "# model.add(Conv2D(64, (3, 3), activation='relu'))\n",
    "# model.add(MaxPool2D(pool_size=(2, 2)))\n",
    "# model.add(Dropout(0.2))\n",
    "\n",
    "model.add(Flatten())\n",
    "model.add(Dense(16, activation='relu'))\n",
    "model.add(Dropout(0.2))\n",
    "model.add(Dense(6, activation='softmax'))\n",
    "\n",
    "# from keras.optimizers import SGD\n",
    "# opt = SGD(lr=0.05)\n",
    "\n",
    "model.compile(loss='categorical_crossentropy',\n",
    "              optimizer='rmsprop', #opt\n",
    "              metrics=['accuracy']) \n",
    "\n",
    "# NOTE: If loss=categorical_crossentropy, \n",
    "# then 'accuracy' metrics == categorical_accruacy\n",
    "\n",
    "model.summary()\n"
   ]
  },
  {
   "cell_type": "code",
   "execution_count": null,
   "metadata": {
    "collapsed": false
   },
   "outputs": [],
   "source": [
    "# data_gen = ImageDataGenerator(\n",
    "#     featurewise_center=True,\n",
    "#     featurewise_std_normalization=True,\n",
    "#     rotation_range=20,\n",
    "#     zoom_range=0.2,\n",
    "#     width_shift_range=0.1,\n",
    "#     height_shift_range=0.1,\n",
    "#     horizontal_flip=False,\n",
    "#     fill_mode=\"nearest\",\n",
    "#     channel_shift_range=0.2,\n",
    "# )\n",
    "\n",
    "\n",
    "# # compute quantities required for featurewise normalization\n",
    "# # (std, mean, and principal components if ZCA whitening is applied)\n",
    "# data_gen.fit(X_train)\n",
    "\n",
    "# # fits the model on batches with real-time data augmentation:\n",
    "# # model.fit_generator(train_gen.flow(X_train, y_train, batch_size=32),\n",
    "# #                     steps_per_epoch=len(X_train) / 32, epochs=20)\n",
    "\n",
    "# import os\n",
    "# os.makedirs('../data/image_data_gen')\n",
    "\n",
    "# i = 0\n",
    "# for X_batch, y_batch in data_gen.flow(X_train, y_train, batch_size=5, save_to_dir='../data/image_data_gen', save_prefix='aug', save_format='jpg'):\n",
    "#     i += 1\n",
    "#     if i == 500:\n",
    "#         break\n",
    "\n",
    "# print(\"done.\")"
   ]
  },
  {
   "cell_type": "code",
   "execution_count": null,
   "metadata": {
    "collapsed": true
   },
   "outputs": [],
   "source": [
    "train_gen = ImageDataGenerator(\n",
    "    featurewise_center=True,\n",
    "    featurewise_std_normalization=True,\n",
    "    rotation_range=20,\n",
    "    zoom_range=0.1,\n",
    "    width_shift_range=0.05,\n",
    "    height_shift_range=0.05,\n",
    "    horizontal_flip=False,\n",
    "    fill_mode=\"nearest\",\n",
    "    channel_shift_range=0.2,\n",
    ")\n",
    "\n",
    "validation_gen = ImageDataGenerator(\n",
    "    featurewise_center=False\n",
    "#     featurewise_std_normalization=True\n",
    ")\n",
    "\n",
    "\n",
    "# compute quantities required for featurewise normalization\n",
    "# (std, mean, and principal components if ZCA whitening is applied)\n",
    "train_gen.fit(X_train)\n",
    "validation_gen.fit(X_train)"
   ]
  },
  {
   "cell_type": "code",
   "execution_count": null,
   "metadata": {
    "collapsed": false
   },
   "outputs": [],
   "source": [
    "epochs_per_round = 50\n",
    "epoch_acc = []\n",
    "for i in range(5):\n",
    "    # fits the model on batches with real-time data augmentation:\n",
    "    model.fit_generator(train_gen.flow(X_train, y_train, batch_size=32),\n",
    "                        validation_data=validation_gen.flow(X_test, y_test, batch_size=32),\n",
    "                        validation_steps=800 // 32,\n",
    "                        steps_per_epoch=len(X_train) / 32, epochs=50,\n",
    "                        verbose=0\n",
    "                        )\n",
    "    \n",
    "    acc = accuracy = model.evaluate(x=X_test,y=y_test,batch_size=32)\n",
    "    print(\"\\nACCURACY AFTER \", epochs_per_round*(i+1), \"EPOCHS:\" acc, \"\\n\\n\\n\")\n",
    "    epoch_acc.append((acc, epochs_per_round*(i+1)))\n",
    "    \n",
    "print(epoch_acc)\n"
   ]
  },
  {
   "cell_type": "code",
   "execution_count": null,
   "metadata": {
    "collapsed": true
   },
   "outputs": [],
   "source": [
    "# model.fit(X_train, y_train, epochs=10, batch_size=32)"
   ]
  },
  {
   "cell_type": "code",
   "execution_count": null,
   "metadata": {
    "collapsed": false
   },
   "outputs": [],
   "source": [
    "accuracy = model.evaluate(x=X_test,y=y_test,batch_size=32)\n",
    "accuracy"
   ]
  },
  {
   "cell_type": "code",
   "execution_count": null,
   "metadata": {
    "collapsed": false,
    "scrolled": true
   },
   "outputs": [],
   "source": [
    "predictions = model.predict(X_test)\n",
    "print('First prediction:', predictions[0])\n",
    "\n",
    "predict_max = [max(class_probs) for class_probs in predictions]\n",
    "print('Average predicted class probability:', np.mean(predict_max))\n",
    "\n",
    "correct = [1 if np.argmax(predictions[i])==np.argmax(y_test[i]) else 0 for i in range(len(y_test))]\n",
    "print(\"%-correct: \", np.mean(correct))\n",
    "\n",
    "predictions[0:5]\n"
   ]
  },
  {
   "cell_type": "code",
   "execution_count": null,
   "metadata": {
    "collapsed": true
   },
   "outputs": [],
   "source": []
  }
 ],
 "metadata": {
  "kernelspec": {
   "display_name": "Python 3",
   "language": "python",
   "name": "python3"
  },
  "language_info": {
   "codemirror_mode": {
    "name": "ipython",
    "version": 3
   },
   "file_extension": ".py",
   "mimetype": "text/x-python",
   "name": "python",
   "nbconvert_exporter": "python",
   "pygments_lexer": "ipython3",
   "version": "3.5.2"
  }
 },
 "nbformat": 4,
 "nbformat_minor": 2
}
