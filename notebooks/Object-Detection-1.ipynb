{
 "cells": [
  {
   "cell_type": "code",
   "execution_count": 16,
   "metadata": {},
   "outputs": [
    {
     "name": "stdout",
     "output_type": "stream",
     "text": [
      "Collecting pip\n",
      "  Using cached https://files.pythonhosted.org/packages/c2/d7/90f34cb0d83a6c5631cf71dfe64cc1054598c843a92b400e55675cc2ac37/pip-18.1-py2.py3-none-any.whl\n",
      "Installing collected packages: pip\n",
      "  Found existing installation: pip 10.0.1\n",
      "    Uninstalling pip-10.0.1:\n",
      "      Successfully uninstalled pip-10.0.1\n",
      "  Rolling back uninstall of pip\n",
      "\u001b[31mCould not install packages due to an EnvironmentError: [Errno 13] Permission denied: '/lib/python3.6'\n",
      "Consider using the `--user` option or check the permissions.\n",
      "\u001b[0m\n",
      "\u001b[33mYou are using pip version 10.0.1, however version 18.1 is available.\n",
      "You should consider upgrading via the 'pip install --upgrade pip' command.\u001b[0m\n",
      "Requirement already satisfied: numpy==1.15.4 in /Users/eelrufaie/Library/Python/3.6/lib/python/site-packages (1.15.4)\n",
      "\u001b[33mYou are using pip version 10.0.1, however version 18.1 is available.\n",
      "You should consider upgrading via the 'pip install --upgrade pip' command.\u001b[0m\n",
      "Requirement already satisfied: keras==2.1.3 in /Users/eelrufaie/Library/Python/3.6/lib/python/site-packages (2.1.3)\n",
      "Requirement already satisfied: numpy>=1.9.1 in /Users/eelrufaie/Library/Python/3.6/lib/python/site-packages (from keras==2.1.3) (1.15.4)\n",
      "Requirement already satisfied: pyyaml in /Users/eelrufaie/Library/Python/3.6/lib/python/site-packages (from keras==2.1.3) (3.13)\n",
      "Requirement already satisfied: six>=1.9.0 in /Users/eelrufaie/Library/Python/3.6/lib/python/site-packages (from keras==2.1.3) (1.11.0)\n",
      "Requirement already satisfied: scipy>=0.14 in /Users/eelrufaie/Library/Python/3.6/lib/python/site-packages (from keras==2.1.3) (1.1.0)\n",
      "\u001b[33mYou are using pip version 10.0.1, however version 18.1 is available.\n",
      "You should consider upgrading via the 'pip install --upgrade pip' command.\u001b[0m\n",
      "Requirement already satisfied: pandas==0.23.4 in /Users/eelrufaie/Library/Python/3.6/lib/python/site-packages (0.23.4)\n",
      "Requirement already satisfied: numpy>=1.9.0 in /Users/eelrufaie/Library/Python/3.6/lib/python/site-packages (from pandas==0.23.4) (1.15.4)\n",
      "Requirement already satisfied: pytz>=2011k in /Users/eelrufaie/Library/Python/3.6/lib/python/site-packages (from pandas==0.23.4) (2018.7)\n",
      "Requirement already satisfied: python-dateutil>=2.5.0 in /Users/eelrufaie/Library/Python/3.6/lib/python/site-packages (from pandas==0.23.4) (2.7.5)\n",
      "Requirement already satisfied: six>=1.5 in /Users/eelrufaie/Library/Python/3.6/lib/python/site-packages (from python-dateutil>=2.5.0->pandas==0.23.4) (1.11.0)\n",
      "\u001b[33mYou are using pip version 10.0.1, however version 18.1 is available.\n",
      "You should consider upgrading via the 'pip install --upgrade pip' command.\u001b[0m\n",
      "Requirement already satisfied: scikit-image==0.14.1 in /Users/eelrufaie/Library/Python/3.6/lib/python/site-packages (0.14.1)\n",
      "Requirement already satisfied: scipy>=0.17.0 in /Users/eelrufaie/Library/Python/3.6/lib/python/site-packages (from scikit-image==0.14.1) (1.1.0)\n",
      "Requirement already satisfied: six>=1.10.0 in /Users/eelrufaie/Library/Python/3.6/lib/python/site-packages (from scikit-image==0.14.1) (1.11.0)\n",
      "Requirement already satisfied: PyWavelets>=0.4.0 in /Users/eelrufaie/Library/Python/3.6/lib/python/site-packages (from scikit-image==0.14.1) (1.0.1)\n",
      "Requirement already satisfied: matplotlib>=2.0.0 in /Users/eelrufaie/Library/Python/3.6/lib/python/site-packages (from scikit-image==0.14.1) (3.0.2)\n",
      "Requirement already satisfied: pillow>=4.3.0 in /Users/eelrufaie/Library/Python/3.6/lib/python/site-packages (from scikit-image==0.14.1) (5.3.0)\n",
      "Requirement already satisfied: dask[array]>=0.9.0 in /Users/eelrufaie/Library/Python/3.6/lib/python/site-packages (from scikit-image==0.14.1) (1.0.0)\n",
      "Requirement already satisfied: networkx>=1.8 in /Users/eelrufaie/Library/Python/3.6/lib/python/site-packages (from scikit-image==0.14.1) (2.2)\n",
      "Requirement already satisfied: cloudpickle>=0.2.1 in /Users/eelrufaie/Library/Python/3.6/lib/python/site-packages (from scikit-image==0.14.1) (0.6.1)\n",
      "Requirement already satisfied: numpy>=1.8.2 in /Users/eelrufaie/Library/Python/3.6/lib/python/site-packages (from scipy>=0.17.0->scikit-image==0.14.1) (1.15.4)\n",
      "Requirement already satisfied: pyparsing!=2.0.4,!=2.1.2,!=2.1.6,>=2.0.1 in /Users/eelrufaie/Library/Python/3.6/lib/python/site-packages (from matplotlib>=2.0.0->scikit-image==0.14.1) (2.3.0)\n",
      "Requirement already satisfied: python-dateutil>=2.1 in /Users/eelrufaie/Library/Python/3.6/lib/python/site-packages (from matplotlib>=2.0.0->scikit-image==0.14.1) (2.7.5)\n",
      "Requirement already satisfied: cycler>=0.10 in /Users/eelrufaie/Library/Python/3.6/lib/python/site-packages (from matplotlib>=2.0.0->scikit-image==0.14.1) (0.10.0)\n",
      "Requirement already satisfied: kiwisolver>=1.0.1 in /Users/eelrufaie/Library/Python/3.6/lib/python/site-packages (from matplotlib>=2.0.0->scikit-image==0.14.1) (1.0.1)\n",
      "Requirement already satisfied: toolz>=0.7.3; extra == \"array\" in /Users/eelrufaie/Library/Python/3.6/lib/python/site-packages (from dask[array]>=0.9.0->scikit-image==0.14.1) (0.9.0)\n",
      "Requirement already satisfied: decorator>=4.3.0 in /Users/eelrufaie/Library/Python/3.6/lib/python/site-packages (from networkx>=1.8->scikit-image==0.14.1) (4.3.0)\n",
      "Requirement already satisfied: setuptools in /usr/local/lib/python3.6/site-packages (from kiwisolver>=1.0.1->matplotlib>=2.0.0->scikit-image==0.14.1) (39.2.0)\n",
      "\u001b[33mYou are using pip version 10.0.1, however version 18.1 is available.\n",
      "You should consider upgrading via the 'pip install --upgrade pip' command.\u001b[0m\n",
      "Collecting scikit-learn==0.19.0\n",
      "\u001b[?25l  Downloading https://files.pythonhosted.org/packages/c8/04/4c12098fed15b053bde9426d4299c4ef8b1bdae0d9352f4f7714046b415f/scikit_learn-0.19.0-cp36-cp36m-macosx_10_6_intel.macosx_10_9_intel.macosx_10_9_x86_64.macosx_10_10_intel.macosx_10_10_x86_64.whl (7.6MB)\n",
      "\u001b[K    100% |████████████████████████████████| 7.6MB 3.1MB/s ta 0:00:011\n",
      "\u001b[?25hInstalling collected packages: scikit-learn\n",
      "  Found existing installation: scikit-learn 0.20.1\n",
      "    Uninstalling scikit-learn-0.20.1:\n",
      "      Successfully uninstalled scikit-learn-0.20.1\n",
      "Successfully installed scikit-learn-0.19.0\n",
      "\u001b[33mYou are using pip version 10.0.1, however version 18.1 is available.\n",
      "You should consider upgrading via the 'pip install --upgrade pip' command.\u001b[0m\n",
      "Requirement already satisfied: tensorflow in /Users/eelrufaie/Library/Python/3.6/lib/python/site-packages (1.12.0)\n",
      "Requirement already satisfied: astor>=0.6.0 in /Users/eelrufaie/Library/Python/3.6/lib/python/site-packages (from tensorflow) (0.7.1)\n",
      "Requirement already satisfied: numpy>=1.13.3 in /Users/eelrufaie/Library/Python/3.6/lib/python/site-packages (from tensorflow) (1.15.4)\n",
      "Requirement already satisfied: protobuf>=3.6.1 in /Users/eelrufaie/Library/Python/3.6/lib/python/site-packages (from tensorflow) (3.6.1)\n",
      "Requirement already satisfied: wheel>=0.26 in /usr/local/lib/python3.6/site-packages (from tensorflow) (0.31.1)\n",
      "Requirement already satisfied: six>=1.10.0 in /Users/eelrufaie/Library/Python/3.6/lib/python/site-packages (from tensorflow) (1.11.0)\n",
      "Requirement already satisfied: gast>=0.2.0 in /Users/eelrufaie/Library/Python/3.6/lib/python/site-packages (from tensorflow) (0.2.0)\n",
      "Requirement already satisfied: absl-py>=0.1.6 in /Users/eelrufaie/Library/Python/3.6/lib/python/site-packages (from tensorflow) (0.6.1)\n",
      "Requirement already satisfied: keras-preprocessing>=1.0.5 in /Users/eelrufaie/Library/Python/3.6/lib/python/site-packages (from tensorflow) (1.0.5)\n",
      "Requirement already satisfied: grpcio>=1.8.6 in /Users/eelrufaie/Library/Python/3.6/lib/python/site-packages (from tensorflow) (1.17.0)\n",
      "Requirement already satisfied: termcolor>=1.1.0 in /Users/eelrufaie/Library/Python/3.6/lib/python/site-packages (from tensorflow) (1.1.0)\n",
      "Requirement already satisfied: tensorboard<1.13.0,>=1.12.0 in /Users/eelrufaie/Library/Python/3.6/lib/python/site-packages (from tensorflow) (1.12.0)\n",
      "Requirement already satisfied: keras-applications>=1.0.6 in /Users/eelrufaie/Library/Python/3.6/lib/python/site-packages (from tensorflow) (1.0.6)\n",
      "Requirement already satisfied: setuptools in /usr/local/lib/python3.6/site-packages (from protobuf>=3.6.1->tensorflow) (39.2.0)\n",
      "Requirement already satisfied: werkzeug>=0.11.10 in /Users/eelrufaie/Library/Python/3.6/lib/python/site-packages (from tensorboard<1.13.0,>=1.12.0->tensorflow) (0.14.1)\n",
      "Requirement already satisfied: markdown>=2.6.8 in /Users/eelrufaie/Library/Python/3.6/lib/python/site-packages (from tensorboard<1.13.0,>=1.12.0->tensorflow) (3.0.1)\n",
      "Requirement already satisfied: h5py in /Users/eelrufaie/Library/Python/3.6/lib/python/site-packages (from keras-applications>=1.0.6->tensorflow) (2.8.0)\n"
     ]
    },
    {
     "name": "stdout",
     "output_type": "stream",
     "text": [
      "\u001b[33mYou are using pip version 10.0.1, however version 18.1 is available.\n",
      "You should consider upgrading via the 'pip install --upgrade pip' command.\u001b[0m\n",
      "Requirement already satisfied: imgaug in /Users/eelrufaie/Library/Python/3.6/lib/python/site-packages (0.2.7)\n",
      "Requirement already satisfied: Shapely in /Users/eelrufaie/Library/Python/3.6/lib/python/site-packages (from imgaug) (1.6.4.post2)\n",
      "Requirement already satisfied: Pillow in /Users/eelrufaie/Library/Python/3.6/lib/python/site-packages (from imgaug) (5.3.0)\n",
      "Requirement already satisfied: imageio in /Users/eelrufaie/Library/Python/3.6/lib/python/site-packages (from imgaug) (2.4.1)\n",
      "Requirement already satisfied: matplotlib in /Users/eelrufaie/Library/Python/3.6/lib/python/site-packages (from imgaug) (3.0.2)\n",
      "Requirement already satisfied: numpy>=1.7.0 in /Users/eelrufaie/Library/Python/3.6/lib/python/site-packages (from imgaug) (1.15.4)\n",
      "Requirement already satisfied: scikit-image>=0.11.0 in /Users/eelrufaie/Library/Python/3.6/lib/python/site-packages (from imgaug) (0.14.1)\n",
      "Requirement already satisfied: six in /Users/eelrufaie/Library/Python/3.6/lib/python/site-packages (from imgaug) (1.11.0)\n",
      "Requirement already satisfied: scipy in /Users/eelrufaie/Library/Python/3.6/lib/python/site-packages (from imgaug) (1.1.0)\n",
      "Requirement already satisfied: kiwisolver>=1.0.1 in /Users/eelrufaie/Library/Python/3.6/lib/python/site-packages (from matplotlib->imgaug) (1.0.1)\n",
      "Requirement already satisfied: python-dateutil>=2.1 in /Users/eelrufaie/Library/Python/3.6/lib/python/site-packages (from matplotlib->imgaug) (2.7.5)\n",
      "Requirement already satisfied: pyparsing!=2.0.4,!=2.1.2,!=2.1.6,>=2.0.1 in /Users/eelrufaie/Library/Python/3.6/lib/python/site-packages (from matplotlib->imgaug) (2.3.0)\n",
      "Requirement already satisfied: cycler>=0.10 in /Users/eelrufaie/Library/Python/3.6/lib/python/site-packages (from matplotlib->imgaug) (0.10.0)\n",
      "Requirement already satisfied: dask[array]>=0.9.0 in /Users/eelrufaie/Library/Python/3.6/lib/python/site-packages (from scikit-image>=0.11.0->imgaug) (1.0.0)\n",
      "Requirement already satisfied: PyWavelets>=0.4.0 in /Users/eelrufaie/Library/Python/3.6/lib/python/site-packages (from scikit-image>=0.11.0->imgaug) (1.0.1)\n",
      "Requirement already satisfied: networkx>=1.8 in /Users/eelrufaie/Library/Python/3.6/lib/python/site-packages (from scikit-image>=0.11.0->imgaug) (2.2)\n",
      "Requirement already satisfied: cloudpickle>=0.2.1 in /Users/eelrufaie/Library/Python/3.6/lib/python/site-packages (from scikit-image>=0.11.0->imgaug) (0.6.1)\n",
      "Requirement already satisfied: setuptools in /usr/local/lib/python3.6/site-packages (from kiwisolver>=1.0.1->matplotlib->imgaug) (39.2.0)\n",
      "Requirement already satisfied: toolz>=0.7.3; extra == \"array\" in /Users/eelrufaie/Library/Python/3.6/lib/python/site-packages (from dask[array]>=0.9.0->scikit-image>=0.11.0->imgaug) (0.9.0)\n",
      "Requirement already satisfied: decorator>=4.3.0 in /Users/eelrufaie/Library/Python/3.6/lib/python/site-packages (from networkx>=1.8->scikit-image>=0.11.0->imgaug) (4.3.0)\n",
      "\u001b[33mYou are using pip version 10.0.1, however version 18.1 is available.\n",
      "You should consider upgrading via the 'pip install --upgrade pip' command.\u001b[0m\n"
     ]
    }
   ],
   "source": [
    "import sys\n",
    "!{sys.executable} -m pip install --upgrade pip\n",
    "!{sys.executable} -m pip install numpy==1.15.4 --user\n",
    "!{sys.executable} -m pip install keras==2.1.3 --user\n",
    "!{sys.executable} -m pip install pandas==0.23.4 --user\n",
    "!{sys.executable} -m pip install scikit-image==0.14.1 --user\n",
    "!{sys.executable} -m pip install scikit-learn==0.19.0 --user\n",
    "!{sys.executable} -m pip install tensorflow --user\n",
    "!{sys.executable} -m pip install imgaug --user\n",
    "\n"
   ]
  },
  {
   "cell_type": "code",
   "execution_count": 1,
   "metadata": {},
   "outputs": [
    {
     "name": "stderr",
     "output_type": "stream",
     "text": [
      "Using TensorFlow backend.\n"
     ]
    }
   ],
   "source": [
    "import pandas as pd\n",
    "import numpy as np\n",
    "import sklearn\n",
    "from sklearn.model_selection import train_test_split\n",
    "import keras\n",
    "import skimage\n",
    "import tensorflow\n",
    "from keras.utils.np_utils import to_categorical\n",
    "from keras.models import Sequential\n",
    "from keras.layers import Dense, Dropout, Flatten, Conv2D, MaxPool2D, AvgPool2D, BatchNormalization, Reshape\n",
    "from keras.preprocessing.image import ImageDataGenerator\n",
    "from keras.callbacks import LearningRateScheduler\n",
    "from keras.utils.vis_utils import plot_model\n",
    "import matplotlib.pyplot as plt\n",
    "import skimage.morphology as morp\n",
    "from skimage.filters import rank\n",
    "\n",
    "%matplotlib inline\n",
    "\n",
    "assert pd.__version__ == '0.23.4'\n",
    "assert np.__version__ == '1.15.4'\n",
    "assert keras.__version__ == '2.1.3'\n",
    "assert skimage.__version__ == '0.14.1'\n",
    "assert sklearn.__version__ == '0.19.2'\n",
    "assert tensorflow.__version__ == '1.12.0'\n"
   ]
  },
  {
   "cell_type": "code",
   "execution_count": 17,
   "metadata": {},
   "outputs": [],
   "source": [
    "import numpy as np\n",
    "import matplotlib.pyplot as plt\n",
    "import matplotlib\n",
    "%matplotlib inline"
   ]
  },
  {
   "cell_type": "code",
   "execution_count": 18,
   "metadata": {},
   "outputs": [
    {
     "data": {
      "text/html": [
       "<div>\n",
       "<style scoped>\n",
       "    .dataframe tbody tr th:only-of-type {\n",
       "        vertical-align: middle;\n",
       "    }\n",
       "\n",
       "    .dataframe tbody tr th {\n",
       "        vertical-align: top;\n",
       "    }\n",
       "\n",
       "    .dataframe thead th {\n",
       "        text-align: right;\n",
       "    }\n",
       "</style>\n",
       "<table border=\"1\" class=\"dataframe\">\n",
       "  <thead>\n",
       "    <tr style=\"text-align: right;\">\n",
       "      <th></th>\n",
       "      <th>Img_Name</th>\n",
       "      <th>Top</th>\n",
       "      <th>Left</th>\n",
       "      <th>Width</th>\n",
       "      <th>Height</th>\n",
       "      <th>Label</th>\n",
       "    </tr>\n",
       "  </thead>\n",
       "  <tbody>\n",
       "    <tr>\n",
       "      <th>0</th>\n",
       "      <td>01-05 10.15.27_2.jpg</td>\n",
       "      <td>248</td>\n",
       "      <td>422</td>\n",
       "      <td>17</td>\n",
       "      <td>24</td>\n",
       "      <td>Speed Limit 60</td>\n",
       "    </tr>\n",
       "    <tr>\n",
       "      <th>1</th>\n",
       "      <td>01-05 10.15.38.jpg</td>\n",
       "      <td>360</td>\n",
       "      <td>765</td>\n",
       "      <td>45</td>\n",
       "      <td>60</td>\n",
       "      <td>Speed Limit 40</td>\n",
       "    </tr>\n",
       "    <tr>\n",
       "      <th>2</th>\n",
       "      <td>01-07 11.34.55.jpg</td>\n",
       "      <td>111</td>\n",
       "      <td>958</td>\n",
       "      <td>95</td>\n",
       "      <td>148</td>\n",
       "      <td>Speed Limit 20</td>\n",
       "    </tr>\n",
       "    <tr>\n",
       "      <th>3</th>\n",
       "      <td>01-07 16.39.19.jpg</td>\n",
       "      <td>282</td>\n",
       "      <td>1113</td>\n",
       "      <td>55</td>\n",
       "      <td>78</td>\n",
       "      <td>Speed Limit 40</td>\n",
       "    </tr>\n",
       "    <tr>\n",
       "      <th>4</th>\n",
       "      <td>01-09 01.46.39.jpg</td>\n",
       "      <td>357</td>\n",
       "      <td>872</td>\n",
       "      <td>30</td>\n",
       "      <td>31</td>\n",
       "      <td>Speed Limit 50</td>\n",
       "    </tr>\n",
       "  </tbody>\n",
       "</table>\n",
       "</div>"
      ],
      "text/plain": [
       "               Img_Name  Top  Left  Width  Height           Label\n",
       "0  01-05 10.15.27_2.jpg  248   422     17      24  Speed Limit 60\n",
       "1    01-05 10.15.38.jpg  360   765     45      60  Speed Limit 40\n",
       "2    01-07 11.34.55.jpg  111   958     95     148  Speed Limit 20\n",
       "3    01-07 16.39.19.jpg  282  1113     55      78  Speed Limit 40\n",
       "4    01-09 01.46.39.jpg  357   872     30      31  Speed Limit 50"
      ]
     },
     "execution_count": 18,
     "metadata": {},
     "output_type": "execute_result"
    }
   ],
   "source": [
    "train = pd.read_csv(\"../data/train.csv\")\n",
    "train_labels = train[\"Label\"].values\n",
    "train = train.sort_values(\"Img_Name\").reset_index(drop=True)\n",
    "train.head()"
   ]
  },
  {
   "cell_type": "code",
   "execution_count": 19,
   "metadata": {},
   "outputs": [
    {
     "name": "stdout",
     "output_type": "stream",
     "text": [
      "CPU times: user 17.3 s, sys: 1.17 s, total: 18.4 s\n",
      "Wall time: 18.7 s\n",
      "467\n"
     ]
    }
   ],
   "source": [
    "# Load all images. \n",
    "\n",
    "import os\n",
    "import skimage.data\n",
    "def load_data(data_dir):\n",
    "    images = []\n",
    "    \n",
    "    file_names = sorted([os.path.join(data_dir, f)\n",
    "                         for f in os.listdir(data_dir) if f.endswith(\".jpg\")])\n",
    "    \n",
    "    for f in file_names:\n",
    "        images.append(skimage.data.imread(f)) #as_gray=True))\n",
    "\n",
    "    return images\n",
    "\n",
    "%time images = load_data('../data/object-detection-train')\n",
    "print(len(images))"
   ]
  },
  {
   "cell_type": "code",
   "execution_count": null,
   "metadata": {
    "collapsed": true
   },
   "outputs": [],
   "source": [
    "# for a in images:\n",
    "#     if a.shape != (720, 1280, 3):\n",
    "#         print(a.shape)"
   ]
  },
  {
   "cell_type": "code",
   "execution_count": null,
   "metadata": {},
   "outputs": [],
   "source": [
    "# #transform all images to 360x640\n",
    "# import skimage.transform\n",
    "\n",
    "# image_size = (180,320)\n",
    "# %time images_transformed = np.array([skimage.transform.resize(image, image_size) for image in images])"
   ]
  },
  {
   "cell_type": "code",
   "execution_count": 20,
   "metadata": {},
   "outputs": [
    {
     "data": {
      "text/plain": [
       "(467, 4)"
      ]
     },
     "execution_count": 20,
     "metadata": {},
     "output_type": "execute_result"
    }
   ],
   "source": [
    "bb_orig = train[[\"Top\", \"Left\", \"Width\", \"Height\"]].values\n",
    "# bb = np.array([[x] for x in bb])\n",
    "bb_orig.shape\n",
    "\n"
   ]
  },
  {
   "cell_type": "code",
   "execution_count": 21,
   "metadata": {},
   "outputs": [
    {
     "name": "stdout",
     "output_type": "stream",
     "text": [
      "CPU times: user 155 ms, sys: 4.31 ms, total: 159 ms\n",
      "Wall time: 157 ms\n"
     ]
    }
   ],
   "source": [
    "import imgaug as ia\n",
    "from imgaug import augmenters as iaa\n",
    "\n",
    "ia.seed(1)\n",
    "\n",
    "# call with bb_orig and images\n",
    "image_size = (90,160)\n",
    "def get_rescaled_img_and_bb(images, bb_orig, image_size=image_size):\n",
    "\n",
    "    # Define image with two bounding boxes\n",
    "    # image = ia.quokka(size=(256, 256))\n",
    "    bbs = [ia.BoundingBoxesOnImage([\n",
    "                ia.BoundingBox(\n",
    "                    x1=bb_orig[i][0], \n",
    "                    x2=bb_orig[i][0] + bb_orig[i][3], \n",
    "                    y1=bb_orig[i][1], \n",
    "                    y2=bb_orig[i][1] + bb_orig[i][2]\n",
    "                ),\n",
    "            ], shape=images[i].shape)\n",
    "           for i in range(len(images))]\n",
    "    \n",
    "    # Rescale image and bounding boxes\n",
    "    images_rescaled = [ia.imresize_single_image(img, image_size) for img in images]\n",
    "       \n",
    "    bbs_rescaled = [bbs[i].on(images_rescaled[i]) for i in range(len(bbs))]\n",
    "    \n",
    "    # # Draw image before/after rescaling and with rescaled bounding boxes\n",
    "    # image_bbs = [bbs[i].draw_on_image(images_rescaled[i], thickness=2) for i in range(len(bbs))]\n",
    "    # image_rescaled_bbs = [bbs_rescaled[i].draw_on_image(images_rescaled[i], thickness=2) for i in range(len(bbs))]\n",
    "    \n",
    "    bbs_rescaled_fixed = []\n",
    "    for i in range(len(bbs_rescaled)):\n",
    "        t = int(bbs_rescaled[i].bounding_boxes[0].x1)\n",
    "        l = int(bbs_rescaled[i].bounding_boxes[0].y1)\n",
    "        w = int(bbs_rescaled[i].bounding_boxes[0].y2 - bbs_rescaled[i].bounding_boxes[0].y1)\n",
    "        h = int(bbs_rescaled[i].bounding_boxes[0].x2 - bbs_rescaled[i].bounding_boxes[0].x1)\n",
    "        bbs_rescaled_fixed.append((t,l,w,h))\n",
    "\n",
    "    return (images_rescaled, bbs_rescaled_fixed)\n",
    "\n",
    "%time images_rescaled, bbs_rescaled = get_rescaled_img_and_bb(images, bb_orig)"
   ]
  },
  {
   "cell_type": "code",
   "execution_count": 43,
   "metadata": {},
   "outputs": [],
   "source": [
    "# # for image in image_rescaled_bbs[:3]:\n",
    "# image = (image_rescaled_bbs[10]).astype(np.uint8)\n",
    "# im = Image.fromarray(image)\n",
    "# plt.figure()\n",
    "# plt.imshow(im)\n",
    "# plt.show()"
   ]
  },
  {
   "cell_type": "code",
   "execution_count": 22,
   "metadata": {},
   "outputs": [],
   "source": [
    "def IOU(bbox1, bbox2):\n",
    "    '''Calculate overlap between two bounding boxes [x, y, w, h] as the area of intersection over the area of unity'''\n",
    "    x1, y1, w1, h1 = bbox1[0], bbox1[1], bbox1[2], bbox1[3]\n",
    "    x2, y2, w2, h2 = bbox2[0], bbox2[1], bbox2[2], bbox2[3]\n",
    "\n",
    "    w_I = min(x1 + w1, x2 + w2) - max(x1, x2)\n",
    "    h_I = min(y1 + h1, y2 + h2) - max(y1, y2)\n",
    "    if w_I <= 0 or h_I <= 0:  # no overlap\n",
    "        return 0.\n",
    "    I = w_I * h_I\n",
    "\n",
    "    U = w1 * h1 + w2 * h2 - I\n",
    "\n",
    "    return I / U"
   ]
  },
  {
   "cell_type": "code",
   "execution_count": 195,
   "metadata": {},
   "outputs": [
    {
     "data": {
      "image/png": "[encoded data removed]",
      "text/plain": [
       "<Figure size 1000x1000 with 1 Axes>"
      ]
     },
     "metadata": {},
     "output_type": "display_data"
    }
   ],
   "source": [
    "def draw_img_bb(image, bb, bb_pred=None, image_size=None):\n",
    "    if image_size:\n",
    "        bb = bb*image_size\n",
    "        if bb_pred:\n",
    "            bb_pred = bb_pred*image_size\n",
    "    plt.figure(figsize=(10, 10))\n",
    "    plt.imshow((image).astype(np.uint8), cmap='Greys', interpolation='none', origin='upper', extent=[0, image.shape[1], 0, image.shape[0]])\n",
    "    if bb_pred:\n",
    "        plt.gca().add_patch(matplotlib.patches.Rectangle((bb_pred[1], image.shape[0]-bb_pred[0]-bb_pred[3]), bb_pred[2],bb_pred[3], ec='r', fc='none'))\n",
    "        plt.annotate('IOU: {:.2f}'.format(IOU(bb_pred, bb)), (bb_pred[1], image.shape[0]-bb_pred[0]-bb_pred[3]+bb_pred[3]+10), color='r')\n",
    "    plt.gca().add_patch(matplotlib.patches.Rectangle((bb[1], image.shape[0]-bb[0]-bb[3]), bb[2],bb[3], ec='r', fc='none'))\n",
    "    plt.show()\n",
    "    \n",
    "    \n",
    "draw_img_bb(images_rescaled[0], y[0], image_size=max(image_size))\n",
    "# draw_img_bb(images_rescaled[3], bbs_rescaled[3])#, [200, 400, 20,20])"
   ]
  },
  {
   "cell_type": "code",
   "execution_count": null,
   "metadata": {
    "collapsed": true
   },
   "outputs": [],
   "source": [
    "# weird_imgs = [images_transformed[i] for i in range(len(images_transformed))\n",
    "#               if images[i].shape != (720,1280,3)]\n",
    "\n",
    "# print(len(weird_imgs))\n",
    "\n",
    "# from PIL import Image\n",
    "\n",
    "# for image in weird_imgs[:3]:\n",
    "#     image = (image * 255).astype(np.uint8)\n",
    "#     im = Image.fromarray(image)\n",
    "#     plt.figure()\n",
    "#     plt.imshow(im)\n",
    "#     plt.show()\n",
    "\n"
   ]
  },
  {
   "cell_type": "code",
   "execution_count": null,
   "metadata": {},
   "outputs": [],
   "source": [
    "# for image in images_transformed[:3]:\n",
    "#     image = (image * 255).astype(np.uint8)\n",
    "#     im = Image.fromarray(image)\n",
    "#     plt.figure()\n",
    "#     plt.imshow(im)\n",
    "#     plt.show()\n",
    "\n"
   ]
  },
  {
   "cell_type": "code",
   "execution_count": null,
   "metadata": {},
   "outputs": [],
   "source": [
    "# # Create images with random rectangles and bounding boxes. \n",
    "# num_imgs = 50000\n",
    "\n",
    "# img_size = 8\n",
    "# min_object_size = 1\n",
    "# max_object_size = 4\n",
    "# num_objects = 1\n",
    "\n",
    "# bboxes = np.zeros((num_imgs, num_objects, 4))\n",
    "# imgs = np.zeros((num_imgs, img_size, img_size))  # set background to 0\n",
    "\n",
    "# for i_img in range(num_imgs):\n",
    "#     for i_object in range(num_objects):\n",
    "#         w, h = np.random.randint(min_object_size, max_object_size, size=2)\n",
    "#         x = np.random.randint(0, img_size - w)\n",
    "#         y = np.random.randint(0, img_size - h)\n",
    "#         imgs[i_img, x:x+w, y:y+h] = 1.  # set rectangle to 1\n",
    "#         bboxes[i_img, i_object] = [x, y, w, h]\n",
    "        \n",
    "# imgs.shape, bboxes.shape"
   ]
  },
  {
   "cell_type": "code",
   "execution_count": 23,
   "metadata": {},
   "outputs": [
    {
     "data": {
      "text/plain": [
       "((467, 90, 160, 3), 0.5349708179964805, 0.26961403240491283)"
      ]
     },
     "execution_count": 23,
     "metadata": {},
     "output_type": "execute_result"
    }
   ],
   "source": [
    "def norm_X(X):\n",
    "#     X_norm = (X - np.mean(images_rescaled)) / np.std(images_rescaled)\n",
    "    X_norm = X / 255.\n",
    "    return X_norm\n",
    "\n",
    "def denorm_X(X_norm):\n",
    "#     X_denorm = X_norm * np.std(images_rescaled) + np.mean(images_rescaled)\n",
    "    X_denorm = X_norm * 255.\n",
    "    return X_denorm\n",
    "\n",
    "def norm_y(y, image_size):\n",
    "    y_norm = y / max(image_size)\n",
    "    return y_norm\n",
    "\n",
    "def denorm_y(y_norm, image_size):\n",
    "    y_denorm = y_norm * max(image_size)\n",
    "    return y_denorm\n",
    "\n",
    "X = np.array(images_rescaled)\n",
    "\n",
    "# Reshape and normalize the image data to mean 0 and std 1. \n",
    "X = norm_X(X)\n",
    "\n",
    "X.shape, np.mean(X), np.std(X)\n"
   ]
  },
  {
   "cell_type": "code",
   "execution_count": 24,
   "metadata": {},
   "outputs": [
    {
     "data": {
      "text/plain": [
       "((467, 4), 0.16941581905781586, 0.20106967488797006)"
      ]
     },
     "execution_count": 24,
     "metadata": {},
     "output_type": "execute_result"
    }
   ],
   "source": [
    "y = np.array(bbs_rescaled)\n",
    "y = norm_y(y, image_size)\n",
    "y.shape, np.mean(y), np.std(y)"
   ]
  },
  {
   "cell_type": "code",
   "execution_count": 25,
   "metadata": {},
   "outputs": [],
   "source": [
    "from sklearn.model_selection import train_test_split\n",
    "X_train, X_test, y_train, y_test = train_test_split(X, y, test_size=0.2, random_state=42)"
   ]
  },
  {
   "cell_type": "code",
   "execution_count": 28,
   "metadata": {},
   "outputs": [
    {
     "name": "stdout",
     "output_type": "stream",
     "text": [
      "_________________________________________________________________\n",
      "Layer (type)                 Output Shape              Param #   \n",
      "=================================================================\n",
      "conv2d_1 (Conv2D)            (None, 87, 157, 32)       1568      \n",
      "_________________________________________________________________\n",
      "max_pooling2d_1 (MaxPooling2 (None, 43, 78, 32)        0         \n",
      "_________________________________________________________________\n",
      "dropout_1 (Dropout)          (None, 43, 78, 32)        0         \n",
      "_________________________________________________________________\n",
      "conv2d_2 (Conv2D)            (None, 41, 76, 32)        9248      \n",
      "_________________________________________________________________\n",
      "max_pooling2d_2 (MaxPooling2 (None, 20, 38, 32)        0         \n",
      "_________________________________________________________________\n",
      "dropout_2 (Dropout)          (None, 20, 38, 32)        0         \n",
      "_________________________________________________________________\n",
      "flatten_1 (Flatten)          (None, 24320)             0         \n",
      "_________________________________________________________________\n",
      "dense_1 (Dense)              (None, 8)                 194568    \n",
      "_________________________________________________________________\n",
      "dropout_3 (Dropout)          (None, 8)                 0         \n",
      "_________________________________________________________________\n",
      "dense_2 (Dense)              (None, 4)                 36        \n",
      "=================================================================\n",
      "Total params: 205,420\n",
      "Trainable params: 205,420\n",
      "Non-trainable params: 0\n",
      "_________________________________________________________________\n"
     ]
    }
   ],
   "source": [
    "\n",
    "total_epochs_trained = 0\n",
    "model = Sequential()\n",
    "model.add(Conv2D(32, (4, 4), input_shape=(image_size[0],image_size[1],3), activation='relu'))\n",
    "model.add(MaxPool2D(pool_size=(2, 2)))\n",
    "model.add(Dropout(0.2))\n",
    "\n",
    "model.add(Conv2D(32, (3, 3), activation='relu'))\n",
    "model.add(MaxPool2D(pool_size=(2, 2)))\n",
    "model.add(Dropout(0.2))\n",
    "\n",
    "# model.add(Conv2D(32, (3, 3), activation='relu'))\n",
    "# model.add(MaxPool2D(pool_size=(2, 2)))\n",
    "# model.add(Dropout(0.2))\n",
    "\n",
    "# model.add(Conv2D(64, (3, 3), activation='relu'))\n",
    "# model.add(MaxPool2D(pool_size=(2, 2)))\n",
    "# model.add(Dropout(0.2))\n",
    "\n",
    "model.add(Flatten())\n",
    "model.add(Dense(8, activation='relu'))\n",
    "model.add(Dropout(0.2))\n",
    "model.add(Dense(4, activation='softmax'))\n",
    "\n",
    "from keras.optimizers import SGD\n",
    "opt = SGD(lr=0.05)\n",
    "\n",
    "model.compile(loss='mse',\n",
    "              optimizer='rmsprop')\n",
    "#               metrics=['mse']) \n",
    "\n",
    "# NOTE: If loss=categorical_crossentropy, \n",
    "# then 'accuracy' metrics == categorical_accruacy\n",
    "\n",
    "model.summary()\n"
   ]
  },
  {
   "cell_type": "code",
   "execution_count": null,
   "metadata": {
    "scrolled": true
   },
   "outputs": [
    {
     "name": "stdout",
     "output_type": "stream",
     "text": [
      "IOU+MSE AFTER 0 EPOCHS:\n",
      "\n",
      "Epoch 1/1\n",
      "373/373 [==============================] - 5s 14ms/step - loss: 0.0576\n",
      "EPOCH # 1 (mean IOU): 0.00047345660165132\n",
      "Epoch 1/1\n",
      "373/373 [==============================] - 4s 12ms/step - loss: 0.0311\n",
      "EPOCH # 2 (mean IOU): 0.0004342907321286101\n",
      "Epoch 1/1\n",
      "373/373 [==============================] - 5s 12ms/step - loss: 0.0327\n",
      "EPOCH # 3 (mean IOU): 0.0007824124209038204\n",
      "Epoch 1/1\n",
      "373/373 [==============================] - 5s 12ms/step - loss: 0.0311\n",
      "EPOCH # 4 (mean IOU): 0.0003595192271416847\n",
      "Epoch 1/1\n",
      "373/373 [==============================] - 5s 13ms/step - loss: 0.0305\n",
      "EPOCH # 5 (mean IOU): 0.0002497250371767429\n",
      "Epoch 1/1\n",
      "128/373 [=========>....................] - ETA: 3s - loss: 0.0296"
     ]
    }
   ],
   "source": [
    "epochs_per_round = 1\n",
    "epoch_acc = []\n",
    "print(\"IOU+MSE AFTER\", total_epochs_trained, \"EPOCHS:\\n\")\n",
    "\n",
    "for i in range(10):\n",
    "    # fits the model on batches with real-time data augmentation:\n",
    "\n",
    "    model.fit(X_train, y_train, epochs=epochs_per_round, batch_size=32, verbose=1)\n",
    "\n",
    "    total_epochs_trained += epochs_per_round\n",
    "\n",
    "    pred = model.predict(X_test)\n",
    "\n",
    "    IOUs = [IOU(pred[i],y_test[i]) for i in range(len(pred))]\n",
    "    \n",
    "    mean_IOU = np.mean(IOUs)\n",
    "\n",
    "    print(\"EPOCH #\", total_epochs_trained, \"(mean IOU):\", mean_IOU)\n",
    "    if list(pred[0]) == list(pred[1]):\n",
    "        print(\"Preds are the same...\")\n",
    "    \n",
    "    epoch_acc.append((mean_IOU, total_epochs_trained))\n",
    "    \n",
    "    \n"
   ]
  },
  {
   "cell_type": "code",
   "execution_count": 192,
   "metadata": {},
   "outputs": [
    {
     "data": {
      "text/plain": [
       "array([[47.04655 , 57.577   , 23.090652, 32.285793],\n",
       "       [46.593903, 53.16543 , 26.655272, 33.585384],\n",
       "       [46.660484, 58.373333, 23.246553, 31.719625],\n",
       "       [46.56074 , 61.339527, 21.471643, 30.628075],\n",
       "       [41.114487, 89.38954 ,  9.68486 , 19.811111],\n",
       "       [46.924667, 61.953423, 20.451763, 30.670135],\n",
       "       [46.741127, 57.942883, 23.38507 , 31.930927],\n",
       "       [45.880352, 56.23707 , 25.991535, 31.891048],\n",
       "       [47.19931 , 56.961044, 23.21718 , 32.62246 ],\n",
       "       [46.90177 , 57.94533 , 23.105402, 32.047504]], dtype=float32)"
      ]
     },
     "execution_count": 192,
     "metadata": {},
     "output_type": "execute_result"
    }
   ],
   "source": [
    "pred_denorm = denorm_y(pred,image_size)\n",
    "pred_denorm[:10]"
   ]
  },
  {
   "cell_type": "code",
   "execution_count": 196,
   "metadata": {
    "scrolled": true
   },
   "outputs": [
    {
     "data": {
      "image/png": "[encoded data removed]",
      "text/plain": [
       "<Figure size 1000x1000 with 1 Axes>"
      ]
     },
     "metadata": {},
     "output_type": "display_data"
    }
   ],
   "source": [
    "i = 0\n",
    "draw_img_bb(denorm_X(X_test[i]), denorm_y(pred[i], image_size))\n",
    "# draw_img_bb(X_test[i], y_test[i], pred[i])\n"
   ]
  },
  {
   "cell_type": "code",
   "execution_count": 197,
   "metadata": {
    "collapsed": true
   },
   "outputs": [
    {
     "data": {
      "text/plain": [
       "array([[0.29404095, 0.35985625, 0.14431658, 0.2017862 ],\n",
       "       [0.2912119 , 0.3322839 , 0.16659544, 0.20990865],\n",
       "       [0.29162803, 0.36483333, 0.14529096, 0.19824766],\n",
       "       [0.29100463, 0.38337204, 0.13419777, 0.19142547],\n",
       "       [0.25696555, 0.55868465, 0.06053038, 0.12381945],\n",
       "       [0.29327917, 0.38720888, 0.12782352, 0.19168834],\n",
       "       [0.29213205, 0.362143  , 0.1461567 , 0.1995683 ],\n",
       "       [0.2867522 , 0.35148168, 0.1624471 , 0.19931905],\n",
       "       [0.2949957 , 0.35600653, 0.14510737, 0.20389038],\n",
       "       [0.29313606, 0.36215833, 0.14440876, 0.20029691],\n",
       "       [0.29686552, 0.36030957, 0.13915068, 0.20367427],\n",
       "       [0.28241348, 0.4234102 , 0.1211033 , 0.17307298],\n",
       "       [0.2958496 , 0.38302863, 0.12625998, 0.1948618 ],\n",
       "       [0.28599012, 0.33885217, 0.17187208, 0.20328556],\n",
       "       [0.28463012, 0.39155388, 0.13948974, 0.18432626],\n",
       "       [0.29290944, 0.36275864, 0.14441475, 0.19991714],\n",
       "       [0.29782215, 0.36473295, 0.13470553, 0.20273936],\n",
       "       [0.29490536, 0.37779886, 0.13126175, 0.19603406],\n",
       "       [0.29550648, 0.388406  , 0.12331016, 0.19277735],\n",
       "       [0.29391485, 0.35938224, 0.1448376 , 0.20186535],\n",
       "       [0.28139076, 0.44209582, 0.10954692, 0.16696648],\n",
       "       [0.28473377, 0.3286404 , 0.18055098, 0.20607488],\n",
       "       [0.29492638, 0.34455553, 0.15240864, 0.20810944],\n",
       "       [0.2862432 , 0.37188804, 0.1499725 , 0.19189619],\n",
       "       [0.28812498, 0.40683463, 0.12320231, 0.18183805],\n",
       "       [0.29172617, 0.37269232, 0.14000638, 0.19557512],\n",
       "       [0.29474702, 0.3645041 , 0.14012486, 0.20062393],\n",
       "       [0.28779522, 0.40146887, 0.12741163, 0.18332423],\n",
       "       [0.28208226, 0.42620358, 0.11967883, 0.17203529],\n",
       "       [0.28126428, 0.4171724 , 0.12737758, 0.17418572],\n",
       "       [0.29295358, 0.3416311 , 0.1577105 , 0.20770478],\n",
       "       [0.29399145, 0.35808104, 0.14553419, 0.20239332],\n",
       "       [0.28673434, 0.40732405, 0.12516789, 0.18077369],\n",
       "       [0.29304737, 0.36514446, 0.14263985, 0.19916838],\n",
       "       [0.29354393, 0.35184705, 0.15026753, 0.2043415 ],\n",
       "       [0.292333  , 0.35402638, 0.15100393, 0.20263667],\n",
       "       [0.290105  , 0.33269334, 0.16833162, 0.20887013],\n",
       "       [0.2880165 , 0.32577756, 0.17635642, 0.2098495 ],\n",
       "       [0.29394254, 0.3442795 , 0.15431407, 0.20746396],\n",
       "       [0.28723088, 0.45933807, 0.0882301 , 0.16520095],\n",
       "       [0.2856964 , 0.31532833, 0.18694985, 0.2120255 ],\n",
       "       [0.28438413, 0.42853317, 0.11430044, 0.17278232],\n",
       "       [0.29443464, 0.34856978, 0.15076871, 0.20622687],\n",
       "       [0.28013375, 0.44855973, 0.10694421, 0.1643623 ],\n",
       "       [0.2924117 , 0.36916453, 0.14113079, 0.19729304],\n",
       "       [0.290391  , 0.35502422, 0.15376545, 0.20081936],\n",
       "       [0.29669273, 0.3841134 , 0.1241402 , 0.19505365],\n",
       "       [0.27539068, 0.5105366 , 0.06954566, 0.14452703],\n",
       "       [0.2890164 , 0.44131452, 0.09800046, 0.17166863],\n",
       "       [0.2944433 , 0.35460544, 0.14695431, 0.20399691],\n",
       "       [0.28766558, 0.3850776 , 0.1387219 , 0.18853496],\n",
       "       [0.29271725, 0.37474516, 0.13697068, 0.19556695],\n",
       "       [0.29204226, 0.36442852, 0.144837  , 0.19869225],\n",
       "       [0.29226264, 0.3602531 , 0.1471459 , 0.20033832],\n",
       "       [0.28114256, 0.37277585, 0.15822625, 0.1878553 ],\n",
       "       [0.2931089 , 0.33560053, 0.16116294, 0.21012765],\n",
       "       [0.28795996, 0.34134135, 0.16677354, 0.20392524],\n",
       "       [0.28698158, 0.42098418, 0.11534231, 0.176692  ],\n",
       "       [0.2867188 , 0.42287123, 0.11446196, 0.17594811],\n",
       "       [0.29194447, 0.36114985, 0.14712156, 0.19978417],\n",
       "       [0.29390338, 0.38221475, 0.13006541, 0.19381641],\n",
       "       [0.2830595 , 0.4385562 , 0.10938331, 0.169001  ],\n",
       "       [0.286626  , 0.40424106, 0.12746286, 0.1816701 ],\n",
       "       [0.29475078, 0.36567995, 0.1393642 , 0.20020513],\n",
       "       [0.29435217, 0.37941208, 0.13114432, 0.1950914 ],\n",
       "       [0.29340264, 0.34825438, 0.15277815, 0.2055648 ],\n",
       "       [0.2991415 , 0.35963607, 0.13566239, 0.20555998],\n",
       "       [0.2903005 , 0.34676176, 0.15918808, 0.20374969],\n",
       "       [0.29259175, 0.39117333, 0.12634453, 0.18989047],\n",
       "       [0.29178017, 0.36513674, 0.1448315 , 0.19825153],\n",
       "       [0.29411286, 0.34637257, 0.15270847, 0.20680618],\n",
       "       [0.28570065, 0.45059764, 0.0967214 , 0.16698027],\n",
       "       [0.2954625 , 0.35166368, 0.14703137, 0.2058425 ],\n",
       "       [0.29162806, 0.3409681 , 0.16047534, 0.20692854],\n",
       "       [0.2953724 , 0.4163223 , 0.10496523, 0.18334004],\n",
       "       [0.2912117 , 0.35583398, 0.15181054, 0.20114379],\n",
       "       [0.29348028, 0.35507652, 0.14833361, 0.2031096 ],\n",
       "       [0.2878378 , 0.4480222 , 0.09518556, 0.1689545 ],\n",
       "       [0.2370707 , 0.6100678 , 0.04904703, 0.10381458],\n",
       "       [0.2888076 , 0.37564048, 0.14306705, 0.19248483],\n",
       "       [0.2809605 , 0.44204876, 0.11026919, 0.16672157],\n",
       "       [0.28408504, 0.34879327, 0.16891426, 0.19820741],\n",
       "       [0.27427217, 0.46727142, 0.10268133, 0.155775  ],\n",
       "       [0.29299793, 0.33803016, 0.15986368, 0.20910828],\n",
       "       [0.29310936, 0.36341637, 0.14364608, 0.1998281 ],\n",
       "       [0.2945322 , 0.3491533 , 0.15023209, 0.20608242],\n",
       "       [0.27159545, 0.45782283, 0.11384793, 0.15673381],\n",
       "       [0.29179502, 0.37676087, 0.13722143, 0.19422267],\n",
       "       [0.27011284, 0.5185737 , 0.07138623, 0.13992727],\n",
       "       [0.2918351 , 0.36436087, 0.14523882, 0.19856521],\n",
       "       [0.29540348, 0.37242585, 0.13390283, 0.1982678 ],\n",
       "       [0.2850153 , 0.45578524, 0.09414165, 0.16505782],\n",
       "       [0.29115525, 0.3581284 , 0.15043746, 0.20027886],\n",
       "       [0.29414046, 0.35180745, 0.14924936, 0.20480272]], dtype=float32)"
      ]
     },
     "execution_count": 197,
     "metadata": {},
     "output_type": "execute_result"
    }
   ],
   "source": [
    "pred"
   ]
  },
  {
   "cell_type": "code",
   "execution_count": null,
   "metadata": {
    "collapsed": true
   },
   "outputs": [],
   "source": []
  }
 ],
 "metadata": {
  "kernelspec": {
   "display_name": "Python 3",
   "language": "python",
   "name": "python3"
  },
  "language_info": {
   "codemirror_mode": {
    "name": "ipython",
    "version": 3
   },
   "file_extension": ".py",
   "mimetype": "text/x-python",
   "name": "python",
   "nbconvert_exporter": "python",
   "pygments_lexer": "ipython3",
   "version": "3.6.5"
  }
 },
 "nbformat": 4,
 "nbformat_minor": 2
}
