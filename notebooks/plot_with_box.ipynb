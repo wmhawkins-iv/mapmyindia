{
 "cells": [
  {
   "cell_type": "markdown",
   "metadata": {},
   "source": [
    "# Bounding box"
   ]
  },
  {
   "cell_type": "code",
   "execution_count": 1,
   "metadata": {
    "collapsed": true
   },
   "outputs": [],
   "source": [
    "import pandas as pd\n",
    "import numpy as np\n",
    "from matplotlib.pyplot import imread\n",
    "import matplotlib.pyplot as plt\n",
    "import cv2"
   ]
  },
  {
   "cell_type": "code",
   "execution_count": 2,
   "metadata": {
    "collapsed": true
   },
   "outputs": [],
   "source": [
    "def draw_rect(im, cords, color = None):\n",
    "    \"\"\"Draw the rectangle on the image\n",
    "    \n",
    "    Parameters\n",
    "    ----------\n",
    "    \n",
    "    im : numpy.ndarray\n",
    "        numpy image \n",
    "    \n",
    "    cords: numpy.ndarray\n",
    "        Numpy array containing bounding boxes of shape `N X 4` where N is the \n",
    "        number of bounding boxes and the bounding boxes are represented in the\n",
    "        format `x1 y1 x2 y2`\n",
    "        \n",
    "    Returns\n",
    "    -------\n",
    "    \n",
    "    numpy.ndarray\n",
    "        numpy image with bounding boxes drawn on it\n",
    "        \n",
    "    \"\"\"\n",
    "    \n",
    "    im = im.copy()\n",
    "    \n",
    "    cords = cords.reshape(-1,4)\n",
    "    if not color:\n",
    "        color = [255,255,255]\n",
    "    for cord in cords:\n",
    "        \n",
    "        pt1, pt2 = (cord[0], cord[1]) , (cord[2], cord[3])\n",
    "                \n",
    "        pt1 = int(pt1[0]), int(pt1[1])\n",
    "        pt2 = int(pt2[0]), int(pt2[1])\n",
    "    \n",
    "        im = cv2.rectangle(im.copy(), pt1, pt2, color, int(max(im.shape[:2])/200))\n",
    "    return im"
   ]
  },
  {
   "cell_type": "code",
   "execution_count": 3,
   "metadata": {
    "collapsed": false
   },
   "outputs": [
    {
     "data": {
      "text/html": [
       "<div>\n",
       "<style scoped>\n",
       "    .dataframe tbody tr th:only-of-type {\n",
       "        vertical-align: middle;\n",
       "    }\n",
       "\n",
       "    .dataframe tbody tr th {\n",
       "        vertical-align: top;\n",
       "    }\n",
       "\n",
       "    .dataframe thead th {\n",
       "        text-align: right;\n",
       "    }\n",
       "</style>\n",
       "<table border=\"1\" class=\"dataframe\">\n",
       "  <thead>\n",
       "    <tr style=\"text-align: right;\">\n",
       "      <th></th>\n",
       "      <th>Img_Name</th>\n",
       "      <th>Top</th>\n",
       "      <th>Left</th>\n",
       "      <th>Width</th>\n",
       "      <th>Height</th>\n",
       "      <th>Label</th>\n",
       "    </tr>\n",
       "  </thead>\n",
       "  <tbody>\n",
       "    <tr>\n",
       "      <th>0</th>\n",
       "      <td>02-25 13.26.44.jpg</td>\n",
       "      <td>131</td>\n",
       "      <td>1687</td>\n",
       "      <td>163</td>\n",
       "      <td>163</td>\n",
       "      <td>Speed Limit 80</td>\n",
       "    </tr>\n",
       "  </tbody>\n",
       "</table>\n",
       "</div>"
      ],
      "text/plain": [
       "             Img_Name  Top  Left  Width  Height           Label\n",
       "0  02-25 13.26.44.jpg  131  1687    163     163  Speed Limit 80"
      ]
     },
     "execution_count": 3,
     "metadata": {},
     "output_type": "execute_result"
    }
   ],
   "source": [
    "# load CSV with bounding boxes\n",
    "train_df = pd.read_csv(\"../data/train.csv\")\n",
    "train_df.head(1)"
   ]
  },
  {
   "cell_type": "code",
   "execution_count": 4,
   "metadata": {
    "collapsed": false
   },
   "outputs": [
    {
     "data": {
      "text/plain": [
       "(1080, 1920, 3)"
      ]
     },
     "execution_count": 4,
     "metadata": {},
     "output_type": "execute_result"
    }
   ],
   "source": [
    "# open first file\n",
    "file = train_df.Img_Name[0]\n",
    "image = imread(\"../data/train/%s\" % file)\n",
    "image.shape"
   ]
  },
  {
   "cell_type": "code",
   "execution_count": 5,
   "metadata": {
    "collapsed": true
   },
   "outputs": [],
   "source": [
    "# grab first bounding box\n",
    "given = train_df[ train_df['Img_Name'] == file].loc[0].values[1:-1]\n",
    "left   = given[1]\n",
    "top    = given[0]\n",
    "width  = given[2]\n",
    "height = given[3]\n",
    "right = (image.shape[0] + width) \n",
    "lower = (image.shape[1] -height)"
   ]
  },
  {
   "cell_type": "code",
   "execution_count": 6,
   "metadata": {
    "collapsed": false
   },
   "outputs": [
    {
     "name": "stdout",
     "output_type": "stream",
     "text": [
      "1687 131 1243 1757\n"
     ]
    }
   ],
   "source": [
    "print (left, top, right, lower)"
   ]
  },
  {
   "cell_type": "code",
   "execution_count": 7,
   "metadata": {
    "collapsed": false
   },
   "outputs": [
    {
     "data": {
      "text/plain": [
       "array([1687,  131, 1243, 1757])"
      ]
     },
     "execution_count": 7,
     "metadata": {},
     "output_type": "execute_result"
    }
   ],
   "source": [
    "box = np.array([left,top,right,lower])\n",
    "box"
   ]
  },
  {
   "cell_type": "code",
   "execution_count": 8,
   "metadata": {
    "collapsed": false
   },
   "outputs": [
    {
     "data": {
      "text/plain": [
       "array([100, 100, 500, 300])"
      ]
     },
     "execution_count": 8,
     "metadata": {},
     "output_type": "execute_result"
    }
   ],
   "source": [
    "box = np.array([100,100,500,300])\n",
    "box"
   ]
  },
  {
   "cell_type": "code",
   "execution_count": 9,
   "metadata": {
    "collapsed": false
   },
   "outputs": [
    {
     "data": {
      "text/plain": [
       "<matplotlib.image.AxesImage at 0x11bde3160>"
      ]
     },
     "execution_count": 9,
     "metadata": {},
     "output_type": "execute_result"
    }
   ],
   "source": [
    "# plot\n",
    "plt.imshow(draw_rect(image,box))"
   ]
  },
  {
   "cell_type": "code",
   "execution_count": 152,
   "metadata": {
    "collapsed": false
   },
   "outputs": [
    {
     "data": {
      "text/plain": [
       "163"
      ]
     },
     "execution_count": 152,
     "metadata": {},
     "output_type": "execute_result"
    }
   ],
   "source": [
    "given[3]"
   ]
  },
  {
   "cell_type": "code",
   "execution_count": null,
   "metadata": {
    "collapsed": true
   },
   "outputs": [],
   "source": []
  }
 ],
 "metadata": {
  "kernelspec": {
   "display_name": "Python 3",
   "language": "python",
   "name": "python3"
  },
  "language_info": {
   "codemirror_mode": {
    "name": "ipython",
    "version": 3
   },
   "file_extension": ".py",
   "mimetype": "text/x-python",
   "name": "python",
   "nbconvert_exporter": "python",
   "pygments_lexer": "ipython3",
   "version": "3.5.2"
  }
 },
 "nbformat": 4,
 "nbformat_minor": 2
}
