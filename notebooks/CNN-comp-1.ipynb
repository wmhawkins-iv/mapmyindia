{
 "cells": [
  {
   "cell_type": "code",
   "execution_count": 6,
   "metadata": {},
   "outputs": [
    {
     "name": "stderr",
     "output_type": "stream",
     "text": [
      "Using TensorFlow backend.\n"
     ]
    }
   ],
   "source": [
    "import pandas as pd\n",
    "import numpy as np\n",
    "from sklearn.model_selection import train_test_split\n",
    "import keras as k\n",
    "from keras.utils.np_utils import to_categorical\n",
    "from keras.models import Sequential\n",
    "from keras.layers import Dense, Dropout, Flatten, Conv2D, MaxPool2D, AvgPool2D, BatchNormalization, Reshape\n",
    "from keras.preprocessing.image import ImageDataGenerator\n",
    "from keras.callbacks import LearningRateScheduler\n",
    "from keras.utils.vis_utils import plot_model\n",
    "import matplotlib.pyplot as plt\n",
    "import skimage.morphology as morp\n",
    "from skimage.filters import rank\n",
    "\n",
    "\n",
    "assert pd.__version__ == '0.23.4'\n",
    "assert np.__version__ == '1.15.4'\n",
    "assert k.__version__ == '2.1.3'"
   ]
  },
  {
   "cell_type": "code",
   "execution_count": 7,
   "metadata": {},
   "outputs": [],
   "source": [
    "train = pd.read_csv(\"../data/train.csv\")\n",
    "train_labels = train[\"Label\"].values\n",
    "train_data = train.drop(labels = [\"Label\", \"Img_Name\"], axis = 1)"
   ]
  },
  {
   "cell_type": "code",
   "execution_count": 30,
   "metadata": {},
   "outputs": [
    {
     "name": "stdout",
     "output_type": "stream",
     "text": [
      "467\n",
      "467\n"
     ]
    }
   ],
   "source": [
    "# Load all images. \n",
    "\n",
    "import os\n",
    "import skimage.data\n",
    "def load_data(data_dir):\n",
    "    images = []\n",
    "    \n",
    "    file_names = [os.path.join(data_dir, f)\n",
    "                  for f in os.listdir(data_dir) if f.endswith(\".jpg\")]\n",
    "    \n",
    "    for f in file_names:\n",
    "        images.append(skimage.data.imread(f))\n",
    "    \n",
    "    return images\n",
    "\n",
    "images = load_data('../data/2/Train')\n",
    "print(len(images))"
   ]
  },
  {
   "cell_type": "code",
   "execution_count": 10,
   "metadata": {},
   "outputs": [
    {
     "name": "stdout",
     "output_type": "stream",
     "text": [
      "image.shape[before] (720, 1280, 3)\n",
      "image.shape[before] (1080, 1920, 3)\n",
      "image.shape[before] (720, 1280, 3)\n"
     ]
    }
   ],
   "source": [
    "#explore shapes\n",
    "for image in images[:3]:\n",
    "    print('image.shape[before]', image.shape)"
   ]
  },
  {
   "cell_type": "code",
   "execution_count": 11,
   "metadata": {},
   "outputs": [
    {
     "name": "stderr",
     "output_type": "stream",
     "text": [
      "/Users/eelrufaie/Library/Python/3.6/lib/python/site-packages/skimage/transform/_warps.py:105: UserWarning: The default mode, 'constant', will be changed to 'reflect' in skimage 0.15.\n",
      "  warn(\"The default mode, 'constant', will be changed to 'reflect' in \"\n",
      "/Users/eelrufaie/Library/Python/3.6/lib/python/site-packages/skimage/transform/_warps.py:110: UserWarning: Anti-aliasing will be enabled by default in skimage 0.15 to avoid aliasing artifacts when down-sampling images.\n",
      "  warn(\"Anti-aliasing will be enabled by default in skimage 0.15 to \"\n"
     ]
    }
   ],
   "source": [
    "#transform all images to 250x250\n",
    "import skimage.transform\n",
    "images250 = [skimage.transform.resize(image, (250, 250)) for image in images]"
   ]
  },
  {
   "cell_type": "code",
   "execution_count": 12,
   "metadata": {},
   "outputs": [
    {
     "name": "stdout",
     "output_type": "stream",
     "text": [
      "image.shape[after] (250, 250, 3)\n",
      "image.shape[after] (250, 250, 3)\n",
      "image.shape[after] (250, 250, 3)\n",
      "467\n"
     ]
    }
   ],
   "source": [
    "#confirm transformation\n",
    "for image in images250[:3]:\n",
    "    print('image.shape[after]', image.shape)"
   ]
  },
  {
   "cell_type": "code",
   "execution_count": 26,
   "metadata": {},
   "outputs": [
    {
     "data": {
      "text/plain": [
       "0    Speed Limit 80\n",
       "1    Speed Limit 50\n",
       "2    Speed Limit 50\n",
       "3    Speed Limit 50\n",
       "4    Speed Limit 50\n",
       "Name: Label, dtype: object"
      ]
     },
     "execution_count": 26,
     "metadata": {},
     "output_type": "execute_result"
    }
   ],
   "source": [
    "#Load Labels \n",
    "data = pd.read_csv(\"../data/train.csv\")\n",
    "labels = data[\"Label\"]\n",
    "\n",
    "labels.head()"
   ]
  },
  {
   "cell_type": "code",
   "execution_count": 32,
   "metadata": {},
   "outputs": [
    {
     "name": "stdout",
     "output_type": "stream",
     "text": [
      "468\n",
      "467\n",
      "len(X_train_data) 467\n",
      "len(y_train_labels) 467\n",
      "len(y_labels_categorized) 467\n"
     ]
    }
   ],
   "source": [
    "#categorize labels..\n",
    "\n",
    "import numpy as np\n",
    "from keras.utils.np_utils import to_categorical\n",
    "from sklearn.preprocessing import LabelEncoder\n",
    "\n",
    "y_train_labels = np.array(labels)\n",
    "X_train_data = np.array(images250)\n",
    "\n",
    "num_categories = 6\n",
    "\n",
    "## hack (FIXME).... train & label len do not match, so delete a row from labels.\n",
    "y_train_labels = np.delete(y_train_labels, (15), axis=0)\n",
    "\n",
    "#encode labels\n",
    "label_encoder = LabelEncoder()\n",
    "y_labels_encoded = label_encoder.fit_transform(y_train_labels)\n",
    "\n",
    "y_labels_categorized = to_categorical(y_labels_encoded, num_categories)\n",
    "\n",
    "print('len(X_train_data)', len(X_train_data))\n",
    "print('len(y_train_labels)', len(y_train_labels))\n",
    "print('len(y_labels_categorized)', len(y_labels_categorized))"
   ]
  },
  {
   "cell_type": "code",
   "execution_count": 48,
   "metadata": {},
   "outputs": [
    {
     "name": "stdout",
     "output_type": "stream",
     "text": [
      "_________________________________________________________________\n",
      "Layer (type)                 Output Shape              Param #   \n",
      "=================================================================\n",
      "conv2d_52 (Conv2D)           (None, 32, 248, 1)        72032     \n",
      "_________________________________________________________________\n",
      "conv2d_53 (Conv2D)           (None, 30, 246, 32)       320       \n",
      "_________________________________________________________________\n",
      "conv2d_54 (Conv2D)           (None, 28, 244, 32)       9248      \n",
      "_________________________________________________________________\n",
      "max_pooling2d_19 (MaxPooling (None, 14, 122, 32)       0         \n",
      "_________________________________________________________________\n",
      "conv2d_55 (Conv2D)           (None, 12, 120, 64)       18496     \n",
      "_________________________________________________________________\n",
      "max_pooling2d_20 (MaxPooling (None, 6, 60, 64)         0         \n",
      "_________________________________________________________________\n",
      "dropout_28 (Dropout)         (None, 6, 60, 64)         0         \n",
      "_________________________________________________________________\n",
      "flatten_17 (Flatten)         (None, 23040)             0         \n",
      "_________________________________________________________________\n",
      "dense_23 (Dense)             (None, 256)               5898496   \n",
      "_________________________________________________________________\n",
      "dropout_29 (Dropout)         (None, 256)               0         \n",
      "_________________________________________________________________\n",
      "dense_24 (Dense)             (None, 6)                 1542      \n",
      "=================================================================\n",
      "Total params: 6,000,134\n",
      "Trainable params: 6,000,134\n",
      "Non-trainable params: 0\n",
      "_________________________________________________________________\n",
      "Epoch 1/10\n",
      "467/467 [==============================] - 11s 23ms/step - loss: 2.1397 - acc: 0.2056\n",
      "Epoch 2/10\n",
      "467/467 [==============================] - 9s 18ms/step - loss: 1.7890 - acc: 0.2313\n",
      "Epoch 3/10\n",
      "467/467 [==============================] - 9s 19ms/step - loss: 1.7723 - acc: 0.2527\n",
      "Epoch 4/10\n",
      "467/467 [==============================] - 9s 19ms/step - loss: 1.7363 - acc: 0.2291\n",
      "Epoch 5/10\n",
      "467/467 [==============================] - 9s 19ms/step - loss: 1.7399 - acc: 0.2248\n",
      "Epoch 6/10\n",
      "467/467 [==============================] - 9s 19ms/step - loss: 1.7360 - acc: 0.2505\n",
      "Epoch 7/10\n",
      "467/467 [==============================] - 9s 19ms/step - loss: 1.7339 - acc: 0.2248\n",
      "Epoch 8/10\n",
      "467/467 [==============================] - 9s 19ms/step - loss: 1.7286 - acc: 0.2420\n",
      "Epoch 9/10\n",
      "467/467 [==============================] - 9s 19ms/step - loss: 1.7308 - acc: 0.2463\n",
      "Epoch 10/10\n",
      "467/467 [==============================] - 8s 18ms/step - loss: 1.7238 - acc: 0.2355\n"
     ]
    },
    {
     "data": {
      "text/plain": [
       "<keras.callbacks.History at 0x1398e4b00>"
      ]
     },
     "execution_count": 48,
     "metadata": {},
     "output_type": "execute_result"
    }
   ],
   "source": [
    "input_shape = (250, 250, 3)\n",
    "\n",
    "model = Sequential()\n",
    "model.add(Conv2D(32, kernel_size=(3, 3), activation='relu', input_shape=input_shape, data_format='channels_first'))\n",
    "model.add(Conv2D(32, (3, 3), activation='relu'))\n",
    "model.add(Conv2D(32, (3, 3), activation='relu'))\n",
    "model.add(MaxPool2D(pool_size=(2, 2)))\n",
    "\n",
    "model.add(Conv2D(64, (3, 3), activation='relu'))\n",
    "model.add(MaxPool2D(pool_size=(2, 2)))\n",
    "model.add(Dropout(0.25))\n",
    "model.add(Flatten())\n",
    "\n",
    "model.add(Dense(256, activation='relu'))\n",
    "model.add(Dropout(0.5))\n",
    "model.add(Dense(num_categories, activation='softmax'))\n",
    "\n",
    "model.compile(loss=\"categorical_crossentropy\", optimizer=\"adam\", metrics=['accuracy'])\n",
    "\n",
    "model.summary()\n",
    "\n",
    "model.fit(X_train_data, y_labels_categorized, nb_epoch=10, batch_size=100)"
   ]
  },
  {
   "cell_type": "code",
   "execution_count": null,
   "metadata": {},
   "outputs": [],
   "source": []
  }
 ],
 "metadata": {
  "kernelspec": {
   "display_name": "Python 3",
   "language": "python",
   "name": "python3"
  },
  "language_info": {
   "codemirror_mode": {
    "name": "ipython",
    "version": 3
   },
   "file_extension": ".py",
   "mimetype": "text/x-python",
   "name": "python",
   "nbconvert_exporter": "python",
   "pygments_lexer": "ipython3",
   "version": "3.6.5"
  }
 },
 "nbformat": 4,
 "nbformat_minor": 2
}
